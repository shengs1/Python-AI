{
 "cells": [
  {
   "cell_type": "code",
   "execution_count": 18,
   "id": "98e95370-6b56-4940-a99a-725a662283c8",
   "metadata": {},
   "outputs": [
    {
     "name": "stdout",
     "output_type": "stream",
     "text": [
      "0\n",
      "1\n",
      "2\n",
      "3\n",
      "4\n",
      "5\n",
      "6\n",
      "7\n",
      "8\n",
      "9\n",
      "10\n",
      "------------\n",
      "0\n",
      "1\n",
      "2\n",
      "3\n",
      "4\n",
      "5\n",
      "6\n",
      "7\n",
      "8\n",
      "9\n",
      "10\n"
     ]
    }
   ],
   "source": [
    "# Bài 10: dùng vòng lặp for\n",
    "#range(11) tạo ra dãy số từ 0 đến 10 (11 không bao gồm).\n",
    "#i lần lượt nhận giá trị từ 0 đến 10, và print(i) sẽ in từng giá trị.\n",
    "\n",
    "for i in range(11) :\n",
    "    print(i)\n",
    "\n",
    "print(\"------------\")\n",
    "#dùng vòng lặp while\n",
    "#Bắt đầu với i = 0, điều kiện là i <= 10.\n",
    "#Mỗi vòng lặp, in ra i rồi tăng i lên 1 cho đến khi điều kiện sai.\n",
    "\n",
    "i = 0\n",
    "\n",
    "while  i <=10:\n",
    "        print(i)\n",
    "        i = i+1\n"
   ]
  },
  {
   "cell_type": "code",
   "execution_count": 22,
   "id": "5c487f63-32f4-47c5-b46b-3201907b43c9",
   "metadata": {},
   "outputs": [
    {
     "name": "stdout",
     "output_type": "stream",
     "text": [
      "Số chẵn 0\n",
      "Số lẻ 1\n",
      "Số chẵn 2\n",
      "Số lẻ 3\n",
      "Số chẵn 4\n",
      "Số lẻ 5\n",
      "Số chẵn 6\n",
      "Số lẻ 7\n",
      "Số chẵn 8\n",
      "Số lẻ 9\n",
      "Số chẵn 10\n"
     ]
    }
   ],
   "source": [
    "# Bài 11: In số từ 0 đến 10, nếu là số lẻ thì in “Số lẻ”, nếu là số chẵn thì in “Số chẵn”. HD dùng vòng lặp for và điều kiện IF kết hợp.\n",
    "for i in range(11):\n",
    "    if i%2 == 0:\n",
    "        print(\"Số chẵn\",i)\n",
    "    else:\n",
    "        print(\"Số lẻ\",i)"
   ]
  },
  {
   "cell_type": "code",
   "execution_count": 23,
   "id": "cc002cf5-8412-47d2-bd75-c9f335a79d2c",
   "metadata": {},
   "outputs": [
    {
     "name": "stdin",
     "output_type": "stream",
     "text": [
      "Nhập x: 3\n",
      "Nhập N: 7\n"
     ]
    },
    {
     "name": "stdout",
     "output_type": "stream",
     "text": [
      "s(3,7)=18.846428571428568\n"
     ]
    }
   ],
   "source": [
    "# Bài 12: Tính dãy số\n",
    "\n",
    "x=int(input(\"Nhập x:\"))\n",
    "n=int(input(\"Nhập N:\"))\n",
    "s=0\n",
    "for i in range(1,n+1):\n",
    "    tu=x**i\n",
    "    mau=1\n",
    "    for j in range(1,i+1):\n",
    "        mau=mau*j\n",
    "    s=s+(tu/mau)\n",
    "print(\"s({0},{1})={2}\".format(x,n,s))\n"
   ]
  },
  {
   "cell_type": "code",
   "execution_count": null,
   "id": "104c64b9-ad4b-4e91-89e0-01e880ce91e2",
   "metadata": {},
   "outputs": [],
   "source": [
    "#Bài 13:Viết chương trình nhập vào một số, kiểm tra xem số này có phải là số nguyên tố hay không. Hỏi người dùng có tiếp tục sử dụng hay thoát phần mềm.\n",
    "while True:\n",
    "    n=int(input(\"Nhập 1 số nguyên dương\"))\n",
    "    dem=0\n",
    "    for i in range(1,n+1):\n",
    "        if n % i ==0 :\n",
    "            dem+=1\n",
    "    if dem==2:\n",
    "        print(n,\"Là số nguyên tố\")\n",
    "    else:\n",
    "        print(n,\"Không là số nguyên tố\")\n",
    "    hoi=input(\"Xin mời nhập số tiếp theo ?(c/k):\")\n",
    "    if hoi is \"k\":\n",
    "        break\n",
    "print(\"BYE!\")\n"
   ]
  },
  {
   "cell_type": "code",
   "execution_count": 18,
   "id": "e23f736a-c523-4b82-ae2b-b1c3bb01ee4a",
   "metadata": {},
   "outputs": [
    {
     "name": "stdout",
     "output_type": "stream",
     "text": [
      "Chương trình xử lí List\n"
     ]
    },
    {
     "name": "stdin",
     "output_type": "stream",
     "text": [
      "Nhập số phần tử: 5\n"
     ]
    },
    {
     "name": "stdout",
     "output_type": "stream",
     "text": [
      "List ngẫu nhiên là: \n",
      "[-37, -82, -39, 68, -74]\n",
      "Mời bạn thêm phần tử: \n"
     ]
    },
    {
     "name": "stdin",
     "output_type": "stream",
     "text": [
      " 5\n"
     ]
    },
    {
     "name": "stdout",
     "output_type": "stream",
     "text": [
      "[-37, -82, -39, 68, -74, 5]\n",
      "Bạn muốn đếm số nào ?\n"
     ]
    },
    {
     "name": "stdin",
     "output_type": "stream",
     "text": [
      " 5\n"
     ]
    },
    {
     "name": "stdout",
     "output_type": "stream",
     "text": [
      "5 xuất hiện  1 lần trong List\n",
      "Có  1 số nguyên tố trong list\n",
      "Tổng= 5\n",
      "List sau khi sort:\n",
      "[-82, -74, -39, -37, 5, 68]\n",
      "List trước khi xóa: [-82, -74, -39, -37, 5, 68]\n",
      "List rỗng!\n"
     ]
    }
   ],
   "source": [
    "#List\n",
    "# Câu 1: Xử lí list\n",
    "#Viết chương trình cho phép:\n",
    "# a) Khởi tạo list\n",
    "# b) Thêm phần tử vào list\n",
    "# c) Nhập k, kiểm tra k xuất hiện bao nhiêu lần trong list\n",
    "# d) Tính tổng các số nguyên tố trong list\n",
    "# e) Sắp xếp\n",
    "# f) Xóa list\n",
    "\n",
    "#Bài làm\n",
    "\n",
    "# a) Khởi tạo list\n",
    "\n",
    "from random import randrange\n",
    "print(\"Chương trình xử lí List\")\n",
    "n = int(input(\"Nhập số phần tử:\"))\n",
    "lst = [0]*n\n",
    "for i in range(n):\n",
    "    lst[i] = randrange(-100,100)\n",
    "print(\"List ngẫu nhiên là: \")\n",
    "print(lst)\n",
    "\n",
    "\n",
    "# b) Thêm phần tử vào list\n",
    "\n",
    "print(\"Mời bạn thêm phần tử: \")\n",
    "value = int(input())\n",
    "lst.append(value)\n",
    "print(lst)\n",
    "\n",
    "# c) Nhập và đếm\n",
    "\n",
    "print(\"Bạn muốn đếm số nào ?\")\n",
    "k = int(input())\n",
    "dem = lst.count(k)\n",
    "print(k, \"xuất hiện \", dem, \"lần trong List\")\n",
    "\n",
    "# d) Tính tổng\n",
    "\n",
    "def CheckPrime(n):\n",
    "    d=0\n",
    "    for i in range(1,n+1):\n",
    "        if n%i ==0:\n",
    "            d+=1\n",
    "    return d==2\n",
    "demnt=0\n",
    "tongnt=0\n",
    "for x in lst:\n",
    "    if CheckPrime(x):\n",
    "        demnt+=1\n",
    "        tongnt+=x\n",
    "print(\"Có \",demnt,\"số nguyên tố trong list\")\n",
    "print(\"Tổng=\",tongnt)\n",
    "\n",
    "# e) Sắp xếp\n",
    "\n",
    "lst.sort()\n",
    "print(\"List sau khi sort:\")\n",
    "print(lst)\n",
    "\n",
    "\n",
    "# f) Xóa list\n",
    "\n",
    "print(\"List trước khi xóa:\", lst)\n",
    "del lst\n",
    "print(\"List rỗng!\")\n",
    "\n",
    "\n",
    "\n",
    "\n",
    "\n"
   ]
  },
  {
   "cell_type": "code",
   "execution_count": 28,
   "id": "e5aef957-8fa3-4581-bd79-447330e0b95e",
   "metadata": {},
   "outputs": [
    {
     "name": "stdout",
     "output_type": "stream",
     "text": [
      "Nhập số phần tử:\n"
     ]
    },
    {
     "name": "stdin",
     "output_type": "stream",
     "text": [
      " 2\n"
     ]
    },
    {
     "name": "stdout",
     "output_type": "stream",
     "text": [
      "List sau khi tạo ngẫu nhiên là:\n",
      "[39, 66]\n"
     ]
    },
    {
     "name": "stdin",
     "output_type": "stream",
     "text": [
      "Mời bạn chèn thêm số mới (hoặc nhập -1 để dừng):  3\n",
      "Mời bạn chèn thêm số mới (hoặc nhập -1 để dừng):  4\n",
      "Mời bạn chèn thêm số mới (hoặc nhập -1 để dừng):  -1\n"
     ]
    },
    {
     "name": "stdout",
     "output_type": "stream",
     "text": [
      "List sau khi chèn:\n",
      "[39, 66, 3, 4]\n"
     ]
    },
    {
     "name": "stdin",
     "output_type": "stream",
     "text": [
      "Mời nhập số để xóa 4\n"
     ]
    },
    {
     "name": "stdout",
     "output_type": "stream",
     "text": [
      "List sau khi xóa:\n",
      "[39, 66, 3]\n",
      "List không đối xứng\n"
     ]
    }
   ],
   "source": [
    "#Câu 2: Xử lý List nhập ngẫu nhiên\n",
    "# Viết chương trình cho phép:\n",
    "#-\tViết lệnh khởi tạo ngẫu nhiên n phần tử cho list\n",
    "#-\tGọi k là một số nhập từ bàn phím, hãy xóa tất cả các phần tử có giá trị k tồn tại trong list\n",
    "#-\tKiểm tra list có đối xứng hay không\n",
    "\n",
    "# Bài làm\n",
    "\n",
    "# a) Khởi tạo\n",
    "\n",
    "from random import randrange\n",
    "\n",
    "lst=[]\n",
    "print(\"Nhập số phần tử:\")\n",
    "n=int(input())\n",
    "for i in range(n):\n",
    "    lst.append(randrange(0,100))\n",
    "print(\"List sau khi tạo ngẫu nhiên là:\")\n",
    "print(lst)\n",
    "while True:\n",
    "    x = int(input(\"Mời bạn chèn thêm số mới (hoặc nhập -1 để dừng): \"))\n",
    "    if x == -1:\n",
    "        break  \n",
    "    lst.append(x) \n",
    "print(\"List sau khi chèn:\")\n",
    "print(lst)\n",
    "\n",
    "# b) -\tGọi k là một số nhập từ bàn phím, hãy xóa tất cả các phần tử có giá trị k tồn tại trong list\n",
    "\n",
    "k=int(input(\"Mời nhập số để xóa\"))\n",
    "while lst.count(k)>0:\n",
    "    lst.remove(k)\n",
    "print(\"List sau khi xóa:\")\n",
    "print(lst)\n",
    "\n",
    "# c) -\tKiểm tra list có đối xứng hay không\n",
    "\n",
    "def CheckDoiXung(lst):\n",
    "    for i in range(len(lst)):\n",
    "        if lst[i]!=lst[len(lst)-i-1]:\n",
    "            return  False\n",
    "    return True\n",
    "kt=CheckDoiXung(lst)\n",
    "if kt==True:\n",
    "    print(\"List đối xứng\")\n",
    "else:\n",
    "    print(\"List không đối xứng\")\n",
    "\n",
    "    \n",
    "    "
   ]
  },
  {
   "cell_type": "code",
   "execution_count": 34,
   "id": "d74abb34-68a5-40a1-8b48-20dea179c2e5",
   "metadata": {},
   "outputs": [
    {
     "name": "stdout",
     "output_type": "stream",
     "text": [
      "Nhập số dòng:\n"
     ]
    },
    {
     "name": "stdin",
     "output_type": "stream",
     "text": [
      " 3\n"
     ]
    },
    {
     "name": "stdout",
     "output_type": "stream",
     "text": [
      "Nhập số cột:\n"
     ]
    },
    {
     "name": "stdin",
     "output_type": "stream",
     "text": [
      " 5\n"
     ]
    },
    {
     "name": "stdout",
     "output_type": "stream",
     "text": [
      "46\t16\t12\t64\t90\t\n",
      "39\t76\t74\t99\t63\t\n",
      "36\t49\t88\t24\t89\t\n",
      "Mời bạn nhập dòng muốn xuất:\n"
     ]
    },
    {
     "name": "stdin",
     "output_type": "stream",
     "text": [
      " 2\n"
     ]
    },
    {
     "name": "stdout",
     "output_type": "stream",
     "text": [
      "36\t49\t88\t24\t89\tMời bạn nhập cột muốn xuất:\n"
     ]
    },
    {
     "name": "stdin",
     "output_type": "stream",
     "text": [
      " 4\n"
     ]
    },
    {
     "name": "stdout",
     "output_type": "stream",
     "text": [
      "90\t63\t89\tSố lớn nhất trong ma trận= 99\n"
     ]
    }
   ],
   "source": [
    "# Câu 3: Xử lý List Đa chiều\n",
    "#Viết chương trình cho phép:\n",
    "#-\tKhởi tạo và nhập vào ma trận MxN phần tử ngẫu nhiên\n",
    "#-\tXuất dòng bất kỳ nhập từ bàn phím\n",
    "#-\tXuất cột bất kỳ từ bàn phím\n",
    "#-\tXuất số MAX trong ma trận\n",
    "\n",
    "# Bài làm\n",
    "\n",
    "# a) Khởi tạo\n",
    "\n",
    "from random import randrange\n",
    "\n",
    "\n",
    "def TaoMaTran(m,n):\n",
    "    D=[]\n",
    "    for i in range(m):\n",
    "        row=[]\n",
    "        for j in range(n):\n",
    "            row.append(randrange(100))\n",
    "        D.append(row)\n",
    "    return D\n",
    "def XuatMaTran(D):\n",
    "    for row in D:\n",
    "        for element in row:\n",
    "            print(element,end='\\t')\n",
    "        print()\n",
    "def LayDong(r):\n",
    "    R=D[r]\n",
    "    return R\n",
    "def XuatList1Chieu(R):\n",
    "    for element in R:\n",
    "        print(element,end='\\t')\n",
    "def LayCot(c):\n",
    "    C=[]\n",
    "    for i in range(len(D)):  # Fixed indentation here\n",
    "        C.append(D[i][c])\n",
    "    return C\n",
    "def MAX(D):\n",
    "    max=D[0][0]\n",
    "    for i in range(len(D)):\n",
    "        for j in range(len(D[i])):\n",
    "            if(max<D[i][j]):\n",
    "                max=D[i][j]\n",
    "    return  max\n",
    "print(\"Nhập số dòng:\")\n",
    "m=int(input())\n",
    "print(\"Nhập số cột:\")\n",
    "n=int(input())\n",
    "D=TaoMaTran(m,n)\n",
    "\n",
    "# b) Xuất dòng bất kỳ nhập từ bàn phím\n",
    "\n",
    "XuatMaTran(D)\n",
    "print(\"Mời bạn nhập dòng muốn xuất:\")\n",
    "r=int(input())\n",
    "XuatList1Chieu(LayDong(r))\n",
    "\n",
    "# c) Xuất cột bất kỳ từ bàn phím\n",
    "\n",
    "print(\"Mời bạn nhập cột muốn xuất:\")\n",
    "c=int(input())\n",
    "XuatList1Chieu(LayCot(c))\n",
    "\n",
    "# d) Xuất số MAX trong ma trận\n",
    "max=MAX(D)\n",
    "print(\"Số lớn nhất trong ma trận=\",max)"
   ]
  },
  {
   "cell_type": "code",
   "execution_count": 35,
   "id": "0df8a9ee-1070-4472-ae88-e68cacbc0fd1",
   "metadata": {},
   "outputs": [
    {
     "name": "stdout",
     "output_type": "stream",
     "text": [
      "Nhập số dòng:\n"
     ]
    },
    {
     "name": "stdin",
     "output_type": "stream",
     "text": [
      " 3\n"
     ]
    },
    {
     "name": "stdout",
     "output_type": "stream",
     "text": [
      "Nhập số cột:\n"
     ]
    },
    {
     "name": "stdin",
     "output_type": "stream",
     "text": [
      " 3\n"
     ]
    },
    {
     "name": "stdout",
     "output_type": "stream",
     "text": [
      "Nhập các phần tử của ma trận:\n",
      "Nhập phần tử tại vị trí [0][0]:\n"
     ]
    },
    {
     "name": "stdin",
     "output_type": "stream",
     "text": [
      " 3\n"
     ]
    },
    {
     "name": "stdout",
     "output_type": "stream",
     "text": [
      "Nhập phần tử tại vị trí [0][1]:\n"
     ]
    },
    {
     "name": "stdin",
     "output_type": "stream",
     "text": [
      " 2\n"
     ]
    },
    {
     "name": "stdout",
     "output_type": "stream",
     "text": [
      "Nhập phần tử tại vị trí [0][2]:\n"
     ]
    },
    {
     "name": "stdin",
     "output_type": "stream",
     "text": [
      " 1\n"
     ]
    },
    {
     "name": "stdout",
     "output_type": "stream",
     "text": [
      "Nhập phần tử tại vị trí [1][0]:\n"
     ]
    },
    {
     "name": "stdin",
     "output_type": "stream",
     "text": [
      " 4\n"
     ]
    },
    {
     "name": "stdout",
     "output_type": "stream",
     "text": [
      "Nhập phần tử tại vị trí [1][1]:\n"
     ]
    },
    {
     "name": "stdin",
     "output_type": "stream",
     "text": [
      " 5\n"
     ]
    },
    {
     "name": "stdout",
     "output_type": "stream",
     "text": [
      "Nhập phần tử tại vị trí [1][2]:\n"
     ]
    },
    {
     "name": "stdin",
     "output_type": "stream",
     "text": [
      " 6\n"
     ]
    },
    {
     "name": "stdout",
     "output_type": "stream",
     "text": [
      "Nhập phần tử tại vị trí [2][0]:\n"
     ]
    },
    {
     "name": "stdin",
     "output_type": "stream",
     "text": [
      " 3\n"
     ]
    },
    {
     "name": "stdout",
     "output_type": "stream",
     "text": [
      "Nhập phần tử tại vị trí [2][1]:\n"
     ]
    },
    {
     "name": "stdin",
     "output_type": "stream",
     "text": [
      " 2\n"
     ]
    },
    {
     "name": "stdout",
     "output_type": "stream",
     "text": [
      "Nhập phần tử tại vị trí [2][2]:\n"
     ]
    },
    {
     "name": "stdin",
     "output_type": "stream",
     "text": [
      " 7\n"
     ]
    },
    {
     "name": "stdout",
     "output_type": "stream",
     "text": [
      "Ma trận của bạn:\n",
      "3\t2\t1\t\n",
      "4\t5\t6\t\n",
      "3\t2\t7\t\n",
      "Mời bạn nhập dòng muốn xuất:\n"
     ]
    },
    {
     "name": "stdin",
     "output_type": "stream",
     "text": [
      " 3\n"
     ]
    },
    {
     "ename": "IndexError",
     "evalue": "list index out of range",
     "output_type": "error",
     "traceback": [
      "\u001b[1;31m---------------------------------------------------------------------------\u001b[0m",
      "\u001b[1;31mIndexError\u001b[0m                                Traceback (most recent call last)",
      "Cell \u001b[1;32mIn[35], line 64\u001b[0m\n\u001b[0;32m     62\u001b[0m \u001b[38;5;28mprint\u001b[39m(\u001b[38;5;124m\"\u001b[39m\u001b[38;5;124mMời bạn nhập dòng muốn xuất:\u001b[39m\u001b[38;5;124m\"\u001b[39m)\n\u001b[0;32m     63\u001b[0m r \u001b[38;5;241m=\u001b[39m \u001b[38;5;28mint\u001b[39m(\u001b[38;5;28minput\u001b[39m())\n\u001b[1;32m---> 64\u001b[0m XuatList1Chieu(LayDong(r))\n\u001b[0;32m     66\u001b[0m \u001b[38;5;66;03m# c) Xuất cột bất kỳ từ bàn phím\u001b[39;00m\n\u001b[0;32m     68\u001b[0m \u001b[38;5;28mprint\u001b[39m(\u001b[38;5;124m\"\u001b[39m\u001b[38;5;130;01m\\n\u001b[39;00m\u001b[38;5;124mMời bạn nhập cột muốn xuất:\u001b[39m\u001b[38;5;124m\"\u001b[39m)\n",
      "Cell \u001b[1;32mIn[35], line 32\u001b[0m, in \u001b[0;36mLayDong\u001b[1;34m(r)\u001b[0m\n\u001b[0;32m     31\u001b[0m \u001b[38;5;28;01mdef\u001b[39;00m\u001b[38;5;250m \u001b[39m\u001b[38;5;21mLayDong\u001b[39m(r):\n\u001b[1;32m---> 32\u001b[0m     R \u001b[38;5;241m=\u001b[39m D[r]\n\u001b[0;32m     33\u001b[0m     \u001b[38;5;28;01mreturn\u001b[39;00m R\n",
      "\u001b[1;31mIndexError\u001b[0m: list index out of range"
     ]
    }
   ],
   "source": [
    "# Câu 3: Xử lý List Đa chiều\n",
    "#Viết chương trình cho phép:\n",
    "#-\tKhởi tạo và nhập vào ma trận MxN phần tử từ bàn phím\n",
    "#-\tXuất dòng bất kỳ nhập từ bàn phím\n",
    "#-\tXuất cột bất kỳ từ bàn phím\n",
    "#-\tXuất số MAX trong ma trận\n",
    "\n",
    "# Bài làm\n",
    "\n",
    "# a) Khởi tạo và nhập từ bàn phím\n",
    "\n",
    "def TaoMaTran(m, n):\n",
    "    D = []\n",
    "    print(\"Nhập các phần tử của ma trận:\")\n",
    "    for i in range(m):\n",
    "        row = []\n",
    "        for j in range(n):\n",
    "            print(f\"Nhập phần tử tại vị trí [{i}][{j}]:\")\n",
    "            element = int(input())\n",
    "            row.append(element)\n",
    "        D.append(row)\n",
    "    return D\n",
    "\n",
    "def XuatMaTran(D):\n",
    "    print(\"Ma trận của bạn:\")\n",
    "    for row in D:\n",
    "        for element in row:\n",
    "            print(element, end='\\t')\n",
    "        print()\n",
    "\n",
    "def LayDong(r):\n",
    "    R = D[r]\n",
    "    return R\n",
    "\n",
    "def XuatList1Chieu(R):\n",
    "    for element in R:\n",
    "        print(element, end='\\t')\n",
    "\n",
    "def LayCot(c):\n",
    "    C = []\n",
    "    for i in range(len(D)):\n",
    "        C.append(D[i][c])\n",
    "    return C\n",
    "\n",
    "def MAX(D):\n",
    "    max = D[0][0]\n",
    "    for i in range(len(D)):\n",
    "        for j in range(len(D[i])):\n",
    "            if(max < D[i][j]):\n",
    "                max = D[i][j]\n",
    "    return max\n",
    "\n",
    "print(\"Nhập số dòng:\")\n",
    "m = int(input())\n",
    "print(\"Nhập số cột:\")\n",
    "n = int(input())\n",
    "D = TaoMaTran(m, n)\n",
    "\n",
    "# b) Xuất dòng bất kỳ nhập từ bàn phím\n",
    "\n",
    "XuatMaTran(D)\n",
    "print(\"Mời bạn nhập dòng muốn xuất:\")\n",
    "r = int(input())\n",
    "XuatList1Chieu(LayDong(r))\n",
    "\n",
    "# c) Xuất cột bất kỳ từ bàn phím\n",
    "\n",
    "print(\"\\nMời bạn nhập cột muốn xuất:\")\n",
    "c = int(input())\n",
    "XuatList1Chieu(LayCot(c))\n",
    "\n",
    "# d) Xuất số MAX trong ma trận\n",
    "max = MAX(D)\n",
    "print(\"\\nSố lớn nhất trong ma trận =\", max)"
   ]
  },
  {
   "cell_type": "code",
   "execution_count": null,
   "id": "b307bb43-90da-4350-8a38-cdb6a117ede6",
   "metadata": {},
   "outputs": [],
   "source": []
  }
 ],
 "metadata": {
  "kernelspec": {
   "display_name": "Python [conda env:anaconda3] *",
   "language": "python",
   "name": "conda-env-anaconda3-py"
  },
  "language_info": {
   "codemirror_mode": {
    "name": "ipython",
    "version": 3
   },
   "file_extension": ".py",
   "mimetype": "text/x-python",
   "name": "python",
   "nbconvert_exporter": "python",
   "pygments_lexer": "ipython3",
   "version": "3.13.5"
  }
 },
 "nbformat": 4,
 "nbformat_minor": 5
}
