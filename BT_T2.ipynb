{
 "cells": [
  {
   "cell_type": "code",
   "execution_count": 13,
   "id": "d4d7e569-f951-46d7-b1ee-6c37cd6b59c7",
   "metadata": {},
   "outputs": [
    {
     "name": "stdout",
     "output_type": "stream",
     "text": [
      "0\n",
      "0\n",
      "1\n",
      "2\n",
      "3\n",
      "4\n",
      "5\n",
      "6\n",
      "7\n",
      "8\n",
      "9\n",
      "10\n",
      "1\n",
      "0\n",
      "1\n",
      "2\n",
      "3\n",
      "4\n",
      "5\n",
      "6\n",
      "7\n",
      "8\n",
      "9\n",
      "10\n",
      "2\n",
      "0\n",
      "1\n",
      "2\n",
      "3\n",
      "4\n",
      "5\n",
      "6\n",
      "7\n",
      "8\n",
      "9\n",
      "10\n",
      "3\n",
      "0\n",
      "1\n",
      "2\n",
      "3\n",
      "4\n",
      "5\n",
      "6\n",
      "7\n",
      "8\n",
      "9\n",
      "10\n",
      "4\n",
      "0\n",
      "1\n",
      "2\n",
      "3\n",
      "4\n",
      "5\n",
      "6\n",
      "7\n",
      "8\n",
      "9\n",
      "10\n",
      "5\n",
      "0\n",
      "1\n",
      "2\n",
      "3\n",
      "4\n",
      "5\n",
      "6\n",
      "7\n",
      "8\n",
      "9\n",
      "10\n",
      "6\n",
      "0\n",
      "1\n",
      "2\n",
      "3\n",
      "4\n",
      "5\n",
      "6\n",
      "7\n",
      "8\n",
      "9\n",
      "10\n",
      "7\n",
      "0\n",
      "1\n",
      "2\n",
      "3\n",
      "4\n",
      "5\n",
      "6\n",
      "7\n",
      "8\n",
      "9\n",
      "10\n",
      "8\n",
      "0\n",
      "1\n",
      "2\n",
      "3\n",
      "4\n",
      "5\n",
      "6\n",
      "7\n",
      "8\n",
      "9\n",
      "10\n",
      "9\n",
      "0\n",
      "1\n",
      "2\n",
      "3\n",
      "4\n",
      "5\n",
      "6\n",
      "7\n",
      "8\n",
      "9\n",
      "10\n",
      "10\n",
      "0\n",
      "1\n",
      "2\n",
      "3\n",
      "4\n",
      "5\n",
      "6\n",
      "7\n",
      "8\n",
      "9\n",
      "10\n"
     ]
    }
   ],
   "source": [
    "#Câu 10: Dùng vòng lặp for / while để in ra số 0->10\n",
    "for i in range(11):\n",
    "    print(i)\n",
    "    i=0\n",
    "    while i <=10:\n",
    "        print(i)\n",
    "        i+=1"
   ]
  },
  {
   "cell_type": "code",
   "execution_count": 11,
   "id": "a77ce678-e336-4dec-a3e5-909d46521d7a",
   "metadata": {},
   "outputs": [
    {
     "name": "stdout",
     "output_type": "stream",
     "text": [
      "0 là Số chẵn\n",
      "1 là Số lẻ\n",
      "2 là Số chẵn\n",
      "3 là Số lẻ\n",
      "4 là Số chẵn\n",
      "5 là Số lẻ\n",
      "6 là Số chẵn\n",
      "7 là Số lẻ\n",
      "8 là Số chẵn\n",
      "9 là Số lẻ\n",
      "10 là Số chẵn\n"
     ]
    }
   ],
   "source": [
    "#Câu 11: In số từ 0 đến 10, nếu là số lẻ thì in “Số lẻ”, nếu là số chẵn thì in “Số chẵn”. HD dùng vòng lặp for và điều kiện IF kết hợp.\n",
    "for i in range(11):\n",
    "    if i % 2 == 0:\n",
    "        print(i, \"là Số chẵn\")\n",
    "    else:\n",
    "        print(i, \"là Số lẻ\")\n"
   ]
  },
  {
   "cell_type": "code",
   "execution_count": 12,
   "id": "125c8d8d-b28d-4501-8cda-5d096e1d92cb",
   "metadata": {},
   "outputs": [
    {
     "name": "stdin",
     "output_type": "stream",
     "text": [
      "Nhập x: 3\n",
      "Nhập N: 4\n"
     ]
    },
    {
     "name": "stdout",
     "output_type": "stream",
     "text": [
      "s(3,4)=15.375\n"
     ]
    }
   ],
   "source": [
    "#Câu 12: Tính dãy số\n",
    "x=int(input(\"Nhập x:\"))\n",
    "n=int(input(\"Nhập N:\"))\n",
    "s=0\n",
    "for i in range(1,n+1):\n",
    "    tu=x**i\n",
    "    mau=1\n",
    "    for j in range(1,i+1):\n",
    "        mau=mau*j\n",
    "    s=s+(tu/mau)\n",
    "print(\"s({0},{1})={2}\".format(x,n,s))\n"
   ]
  },
  {
   "cell_type": "code",
   "execution_count": 15,
   "id": "21b6b30c-2ab7-4772-b71c-db9edd6e7e3c",
   "metadata": {},
   "outputs": [
    {
     "name": "stdin",
     "output_type": "stream",
     "text": [
      "Nhập 1 số nguyên dương 4\n"
     ]
    },
    {
     "name": "stdout",
     "output_type": "stream",
     "text": [
      "4 Không là số nguyên tố\n"
     ]
    },
    {
     "name": "stdin",
     "output_type": "stream",
     "text": [
      "Tiếp không Thím?(c/k): k\n"
     ]
    },
    {
     "name": "stdout",
     "output_type": "stream",
     "text": [
      "BYE!\n"
     ]
    }
   ],
   "source": [
    "#Câu 13: Kiểm tra số nguyên tố\n",
    "while True:\n",
    "    n=int(input(\"Nhập 1 số nguyên dương\"))\n",
    "    dem=0\n",
    "    for i in range(1,n+1):\n",
    "        if n % i ==0 :\n",
    "            dem+=1\n",
    "    if dem==2:\n",
    "        print(n,\"Là số nguyên tố\")\n",
    "    else:\n",
    "        print(n,\"Không là số nguyên tố\")\n",
    "    hoi=input(\"Tiếp không Thím?(c/k):\")\n",
    "    if hoi is \"k\":\n",
    "        break\n",
    "print(\"BYE!\")\n"
   ]
  },
  {
   "cell_type": "code",
   "execution_count": 26,
   "id": "8095bda5-7e1c-493b-abe7-e1f6f6438878",
   "metadata": {},
   "outputs": [
    {
     "name": "stdout",
     "output_type": "stream",
     "text": [
      "Chương trình xử lý List\n"
     ]
    },
    {
     "name": "stdin",
     "output_type": "stream",
     "text": [
      "Nhập số phần tử 3\n"
     ]
    },
    {
     "name": "stdout",
     "output_type": "stream",
     "text": [
      "List ngẫu nhiên là:\n",
      "[4, 39, 19]\n",
      "Mời bạn thêm số mới:\n"
     ]
    },
    {
     "name": "stdin",
     "output_type": "stream",
     "text": [
      " 1\n"
     ]
    },
    {
     "name": "stdout",
     "output_type": "stream",
     "text": [
      "[4, 39, 19, 1]\n",
      "bạn muốn đếm số nào:\n"
     ]
    },
    {
     "name": "stdin",
     "output_type": "stream",
     "text": [
      " 1\n"
     ]
    },
    {
     "name": "stdout",
     "output_type": "stream",
     "text": [
      "1 xuất hiện  1 trong list\n",
      "Có  1 số nguyên tố trong list\n",
      "Tổng= 19\n",
      "List sau khi sort:\n",
      "[1, 4, 19, 39]\n",
      "List sau khi xóa: <class 'list'>\n",
      "list da xoa\n"
     ]
    }
   ],
   "source": [
    "#Câu 1: Xử lý List\n",
    "#Viết chương trình cho phép:\n",
    "#-\tKhởi tạo list\n",
    "#-\tThêm phần tử vào list\n",
    "#-\tNhập k, kiểm tra k xuất hiện bao nhiêu lần trong list\n",
    "#-\tTính tổng các số nguyên tố trong list\n",
    "#-\tSắp xếp\n",
    "#-\tXóa list\n",
    "\n",
    "from random import randrange\n",
    "\n",
    "print(\"Chương trình xử lý List\")\n",
    "n=int(input(\"Nhập số phần tử\"))\n",
    "lst=[0]*n\n",
    "for i in range(n):\n",
    "    lst[i]=randrange(-100,100)\n",
    "print(\"List ngẫu nhiên là:\")\n",
    "print(lst)\n",
    "print(\"Mời bạn thêm số mới:\")\n",
    "value=int(input())\n",
    "lst.append(value)\n",
    "print(lst)\n",
    "print(\"bạn muốn đếm số nào:\")\n",
    "k=int(input())\n",
    "dem=lst.count(k)\n",
    "print(k,\"xuất hiện \",dem,\"trong list\")\n",
    "def CheckPrime(n):\n",
    "    d=0\n",
    "    for i in range(1,n+1):\n",
    "        if n%i ==0:\n",
    "            d+=1\n",
    "    return d==2\n",
    "demnt=0\n",
    "tongnt=0\n",
    "for x in lst:\n",
    "    if CheckPrime(x):\n",
    "        demnt+=1\n",
    "        tongnt+=x\n",
    "print(\"Có \",demnt,\"số nguyên tố trong list\")\n",
    "print(\"Tổng=\",tongnt)\n",
    "lst.sort()\n",
    "print(\"List sau khi sort:\")\n",
    "print(lst)\n",
    "\n",
    "print(\"List sau khi xóa:\",list)\n",
    "del lst\n",
    "print(\"list da xoa\")\n"
   ]
  },
  {
   "cell_type": "code",
   "execution_count": 29,
   "id": "672149cb-50cb-4fcb-b014-7e0976c3cac3",
   "metadata": {},
   "outputs": [
    {
     "name": "stdout",
     "output_type": "stream",
     "text": [
      "Nhập số phần tử:\n"
     ]
    },
    {
     "name": "stdin",
     "output_type": "stream",
     "text": [
      " 1\n"
     ]
    },
    {
     "name": "stdout",
     "output_type": "stream",
     "text": [
      "List sau khi tạo ngẫu nhiên là:\n",
      "[80]\n"
     ]
    },
    {
     "name": "stdin",
     "output_type": "stream",
     "text": [
      "Mời bạn chèn thêm số mới 80\n"
     ]
    },
    {
     "name": "stdout",
     "output_type": "stream",
     "text": [
      "List sau khi chèn:\n",
      "[80, 80]\n"
     ]
    },
    {
     "name": "stdin",
     "output_type": "stream",
     "text": [
      "Mời nhập số để xóa 80\n"
     ]
    },
    {
     "name": "stdout",
     "output_type": "stream",
     "text": [
      "List sau khi xóa:\n",
      "[]\n",
      "List đối xứng\n"
     ]
    }
   ],
   "source": [
    "#Câu 2: Xử lý List nhập ngẫu nhiên\n",
    "#Viết chương trình cho phép:\n",
    "#-\tViết lệnh khởi tạo ngẫu nhiên n phần tử cho list\n",
    "#-\tGọi k là một số nhập từ bàn phím, hãy xóa tất cả các phần tử có giá trị k tồn tại trong list\n",
    "#-\tKiểm tra list có đối xứng hay không\n",
    "\n",
    "from random import randrange\n",
    "\n",
    "lst=[]\n",
    "print(\"Nhập số phần tử:\")\n",
    "n=int(input())\n",
    "for i in range(n):\n",
    "    lst.append(randrange(0,100))\n",
    "print(\"List sau khi tạo ngẫu nhiên là:\")\n",
    "print(lst)\n",
    "x=int(input(\"Mời bạn chèn thêm số mới\"))\n",
    "lst.append(x)\n",
    "print(\"List sau khi chèn:\")\n",
    "print(lst)\n",
    "k=int(input(\"Mời nhập số để xóa\"))\n",
    "while lst.count(k)>0:\n",
    "    lst.remove(k)\n",
    "print(\"List sau khi xóa:\")\n",
    "print(lst)\n",
    "\n",
    "def CheckDoiXung(lst):\n",
    "    for i in range(len(lst)):\n",
    "        if lst[i]!=lst[len(lst)-i-1]:\n",
    "            return  False\n",
    "    return True\n",
    "kt=CheckDoiXung(lst)\n",
    "if kt==True:\n",
    "    print(\"List đối xứng\")\n",
    "else:\n",
    "    print(\"List không đối xứng\")\n"
   ]
  },
  {
   "cell_type": "code",
   "execution_count": null,
   "id": "973b20fd-7903-403f-9f39-e828a57e31e2",
   "metadata": {},
   "outputs": [
    {
     "name": "stdout",
     "output_type": "stream",
     "text": [
      "Nhập số dòng:\n"
     ]
    }
   ],
   "source": [
    "from random import randrange\n",
    "\n",
    "\n",
    "def TaoMaTran(m,n):\n",
    "    D=[]\n",
    "    for i in range(m):\n",
    "        row=[]\n",
    "        for j in range(n):\n",
    "            row.append(randrange(100))\n",
    "        D.append(row)\n",
    "    return D\n",
    "def XuatMaTran(D):\n",
    "    for row in D:\n",
    "        for element in row:\n",
    "            print(element,end='\\t')\n",
    "        print()\n",
    "def LayDong(r):\n",
    "    R=D[r]\n",
    "    return R\n",
    "def XuatList1Chieu(R):\n",
    "    for element in R:\n",
    "        print(element,end='\\t')\n",
    "def LayCot(c):\n",
    "    C=[]\n",
    "    for i in range(len(D)):\n",
    "        C.append(D[i][c])\n",
    "    return C\n",
    "def MAX(D):\n",
    "    max=D[0][0]\n",
    "    for i in range(len(D)):\n",
    "        for j in range(len(D[i])):\n",
    "            if(max<D[i][j]):\n",
    "                max=D[i][j]\n",
    "    return  max\n",
    "print(\"Nhập số dòng:\")\n",
    "m=int(input())\n",
    "print(\"Nhập số cột:\")\n",
    "n=int(input())\n",
    "D=TaoMaTran(m,n)\n",
    "XuatMaTran(D)\n",
    "print(\"Mời bạn nhập dòng muốn xuất:\")\n",
    "r=int(input())\n",
    "XuatList1Chieu(LayDong(r))\n",
    "print(\"Mời bạn nhập cột muốn xuất:\")\n",
    "c=int(input())\n",
    "XuatList1Chieu(LayCot(c))\n",
    "max=MAX(D)\n",
    "print(\"Số lớn nhất trong ma trận=\",max)\n"
   ]
  },
  {
   "cell_type": "code",
   "execution_count": 7,
   "id": "ea7ae69b-27f2-4441-be58-0feb7374869e",
   "metadata": {},
   "outputs": [
    {
     "name": "stdout",
     "output_type": "stream",
     "text": [
      "(a) lst[3] = 3\n",
      "(b) lst[3] = 5\n",
      "(c) lst[x] = 1\n",
      "(d) lst[-x] = 5\n",
      "(e) lst[x + 1] = 5\n",
      "(f) lst[x] + 1 = 2\n",
      "(g) lst[lst[x]] = 0\n",
      "(h) lst[lst[lst[x]]] = 3\n"
     ]
    }
   ],
   "source": [
    "#Câu 4: Xác định kết quả khi thực thi list\n",
    "#Yêu cầu:\n",
    "#Cho list\n",
    "lst = [3, 0, 1, 5, 2]\n",
    "x = 2\n",
    "#Hãy cho biết kết quả:\n",
    "#(a) lst[0]?\n",
    "#(b) lst[3]?\n",
    "#(c) lst[x]?\n",
    "#(d) lst[-x]?\n",
    "#(e) lst[x + 1]?\n",
    "#(f) lst[x] + 1?\n",
    "#(g) lst[lst[x]]?\n",
    "#(h) lst[lst[lst[x]]]?\n",
    "\n",
    "print(\"(a) lst[3] =\",lst[0])\n",
    "print(\"(b) lst[3] =\", lst[3])\n",
    "print(\"(c) lst[x] =\", lst[x])\n",
    "print(\"(d) lst[-x] =\", lst[-x])\n",
    "print(\"(e) lst[x + 1] =\", lst[x + 1])\n",
    "print(\"(f) lst[x] + 1 =\", lst[x] + 1)\n",
    "print(\"(g) lst[lst[x]] =\", lst[lst[x]])\n",
    "print(\"(h) lst[lst[lst[x]]] =\", lst[lst[lst[x]]])\n"
   ]
  },
  {
   "cell_type": "code",
   "execution_count": 8,
   "id": "3a2b2c4d-2cb4-4dd0-987a-00a7da9f3f1c",
   "metadata": {},
   "outputs": [
    {
     "name": "stdout",
     "output_type": "stream",
     "text": [
      "(a) lst = [20, 1, -34, 40, -8, 60, 1, 3]\n",
      "(b) lst[0:3] = [20, 1, -34]\n",
      "(c) lst[4:8] = [-8, 60, 1, 3]\n",
      "(d) lst[4:33] = [-8, 60, 1, 3]\n",
      "(e) lst[-5:-3] = [40, -8]\n",
      "(f) lst[-22:3] = [20, 1, -34]\n",
      "(g) lst[4:] = [-8, 60, 1, 3]\n",
      "(h) lst[:] = [20, 1, -34, 40, -8, 60, 1, 3]\n",
      "(i) lst[:4] = [20, 1, -34, 40]\n",
      "(j) lst[1:5] = [1, -34, 40, -8]\n",
      "(k) -34 in lst = True\n",
      "(l) -34 not in lst = False\n",
      "(m) len(lst) = 8\n"
     ]
    }
   ],
   "source": [
    "# Câu 5: Xác định kết quả khi thực thi list\n",
    "\n",
    "lst = [20, 1, -34, 40, -8, 60, 1, 3]\n",
    "\n",
    "print(\"(a) lst =\", lst)\n",
    "print(\"(b) lst[0:3] =\", lst[0:3])\n",
    "print(\"(c) lst[4:8] =\", lst[4:8])\n",
    "print(\"(d) lst[4:33] =\", lst[4:33])\n",
    "print(\"(e) lst[-5:-3] =\", lst[-5:-3])\n",
    "print(\"(f) lst[-22:3] =\", lst[-22:3])\n",
    "print(\"(g) lst[4:] =\", lst[4:])\n",
    "print(\"(h) lst[:] =\", lst[:])\n",
    "print(\"(i) lst[:4] =\", lst[:4])\n",
    "print(\"(j) lst[1:5] =\", lst[1:5])\n",
    "print(\"(k) -34 in lst =\", -34 in lst)\n",
    "print(\"(l) -34 not in lst =\", -34 not in lst)\n",
    "print(\"(m) len(lst) =\", len(lst))\n"
   ]
  },
  {
   "cell_type": "code",
   "execution_count": 9,
   "id": "62b63704-47e9-4add-9205-b2f9789f3103",
   "metadata": {},
   "outputs": [
    {
     "name": "stdin",
     "output_type": "stream",
     "text": [
      "Nhập số lượng phần tử N:  100\n"
     ]
    },
    {
     "name": "stdout",
     "output_type": "stream",
     "text": [
      "List ngẫu nhiên không trùng là: [35, 69, 28, 75, 80, 40, 99, 91, 52, 61, 57, 84, 36, 47, 27, 10, 0, 72, 16, 64, 100, 37, 4, 50, 97, 48, 56, 49, 77, 85, 71, 95, 19, 89, 54, 73, 90, 38, 6, 32, 24, 25, 22, 92, 9, 98, 39, 33, 30, 87, 43, 76, 79, 7, 41, 58, 21, 20, 14, 51, 12, 53, 65, 83, 93, 42, 74, 17, 5, 60, 23, 8, 11, 88, 70, 68, 59, 3, 96, 18, 31, 62, 63, 55, 13, 15, 34, 81, 78, 94, 86, 26, 44, 45, 46, 1, 82, 66, 2, 29]\n"
     ]
    }
   ],
   "source": [
    "#Câu 6: Nhập vào 1 list có N số ngẫu nhiên KHÔNG TRÙNG NHAU\n",
    "import random\n",
    "\n",
    "# Nhập N từ bàn phím\n",
    "N = int(input(\"Nhập số lượng phần tử N: \"))\n",
    "\n",
    "# Sinh list gồm N số ngẫu nhiên không trùng trong khoảng 0-100\n",
    "lst = random.sample(range(0, 101), N)\n",
    "\n",
    "print(\"List ngẫu nhiên không trùng là:\", lst)\n"
   ]
  },
  {
   "cell_type": "code",
   "execution_count": 12,
   "id": "e3a39214-6fa0-47c8-a9ec-9f63949a1d02",
   "metadata": {},
   "outputs": [
    {
     "name": "stdin",
     "output_type": "stream",
     "text": [
      "Nhập dãy số theo thứ tự tăng (cách nhau bởi khoảng trắng):  3 1 2 4\n"
     ]
    },
    {
     "name": "stdout",
     "output_type": "stream",
     "text": [
      "Dãy số KHÔNG tăng dần. Vui lòng nhập lại!\n",
      "\n"
     ]
    },
    {
     "name": "stdin",
     "output_type": "stream",
     "text": [
      "Nhập dãy số theo thứ tự tăng (cách nhau bởi khoảng trắng):  1 2\n"
     ]
    },
    {
     "name": "stdout",
     "output_type": "stream",
     "text": [
      "✅ Dãy số hợp lệ: [1, 2]\n"
     ]
    }
   ],
   "source": [
    "#Câu 7: Viết chương trình nhập vào một dãy các số theo thứ tự tăng, nếu nhập sai quy cách thì yêu cầu nhập lại. In dãy số sau khi đã nhập xong\n",
    "def nhap_day_tang():\n",
    "    while True:\n",
    "        try:\n",
    "            # Nhập dãy số, cách nhau bởi khoảng trắng\n",
    "            s = input(\"Nhập dãy số theo thứ tự tăng (cách nhau bởi khoảng trắng): \")\n",
    "            lst = list(map(int, s.split()))\n",
    "            \n",
    "            # Kiểm tra có tăng dần không\n",
    "            if all(lst[i] < lst[i+1] for i in range(len(lst)-1)):\n",
    "                return lst\n",
    "            else:\n",
    "                print(\"Dãy số KHÔNG tăng dần. Vui lòng nhập lại!\\n\")\n",
    "        except ValueError:\n",
    "            print(\" Vui lòng chỉ nhập số nguyên!\\n\")\n",
    "\n",
    "# Gọi hàm\n",
    "day_so = nhap_day_tang()\n",
    "print(\"✅ Dãy số hợp lệ:\", day_so)\n"
   ]
  },
  {
   "cell_type": "code",
   "execution_count": 13,
   "id": "d56e323c-d410-422f-be36-669f44610336",
   "metadata": {},
   "outputs": [
    {
     "name": "stdin",
     "output_type": "stream",
     "text": [
      "Nhập số lượng phần tử n:  2\n",
      "Nhập M[0]:  4\n",
      "Nhập M[1]:  1\n"
     ]
    },
    {
     "name": "stdout",
     "output_type": "stream",
     "text": [
      "Dãy số ban đầu: [4.0, 1.0]\n",
      "Dãy số sau khi sắp xếp giảm dần: [4.0, 1.0]\n"
     ]
    }
   ],
   "source": [
    "#Câu 8: Viết chương trình nhập vào một dãy n số thực M[0], M[1],..., M[n-1], sắp xếp dãy số theo thứ tự giảm dần. Xuất ra dãy số sau khi sắp xếp.\n",
    "# Nhập số lượng phần tử\n",
    "n = int(input(\"Nhập số lượng phần tử n: \"))\n",
    "\n",
    "# Nhập dãy số thực\n",
    "M = []\n",
    "for i in range(n):\n",
    "    x = float(input(f\"Nhập M[{i}]: \"))\n",
    "    M.append(x)\n",
    "\n",
    "print(\"Dãy số ban đầu:\", M)\n",
    "\n",
    "# Sắp xếp giảm dần\n",
    "M.sort(reverse=True)\n",
    "\n",
    "print(\"Dãy số sau khi sắp xếp giảm dần:\", M)\n"
   ]
  },
  {
   "cell_type": "code",
   "execution_count": 15,
   "id": "594b3ab3-6c8d-4621-aadf-75e5abc32ddb",
   "metadata": {},
   "outputs": [
    {
     "name": "stdout",
     "output_type": "stream",
     "text": [
      "Dòng 1 - Số lẻ: [3, 7, 11, 17, 5, 5] → Tổng cộng: 6\n",
      "Dòng 2 - Số chẵn: [6, 8, 2, 90, 2, 4, 8] → Tổng cộng: 7\n",
      "Dòng 3 - Số nguyên tố: [3, 7, 11, 17, 2, 2, 5, 5]\n",
      "Dòng 4 - Không nguyên tố: [6, 8, 90, 4, 8]\n"
     ]
    }
   ],
   "source": [
    "#Câu 9\n",
    "M = [3, 6, 7, 8, 11, 17, 2, 90, 2, 5, 4, 5, 8]\n",
    "# Hàm kiểm tra số nguyên tố\n",
    "def la_so_nguyen_to(n):\n",
    "    if n < 2:\n",
    "        return False\n",
    "    for i in range(2, int(n**0.5) + 1):\n",
    "        if n % i == 0:\n",
    "            return False\n",
    "    return True\n",
    "\n",
    "M = [3, 6, 7, 8, 11, 17, 2, 90, 2, 5, 4, 5, 8]\n",
    "\n",
    "# Tách số lẻ và số chẵn\n",
    "le = [x for x in M if x % 2 != 0]\n",
    "chan = [x for x in M if x % 2 == 0]\n",
    "\n",
    "# Tách số nguyên tố và không nguyên tố\n",
    "nguyento = [x for x in M if la_so_nguyen_to(x)]\n",
    "khong_nguyento = [x for x in M if not la_so_nguyen_to(x)]\n",
    "\n",
    "# Xuất kết quả\n",
    "print(\"Dòng 1 - Số lẻ:\", le, \"→ Tổng cộng:\", len(le))\n",
    "print(\"Dòng 2 - Số chẵn:\", chan, \"→ Tổng cộng:\", len(chan))\n",
    "print(\"Dòng 3 - Số nguyên tố:\", nguyento)\n",
    "print(\"Dòng 4 - Không nguyên tố:\", khong_nguyento)\n"
   ]
  }
 ],
 "metadata": {
  "kernelspec": {
   "display_name": "Python [conda env:base] *",
   "language": "python",
   "name": "conda-base-py"
  },
  "language_info": {
   "codemirror_mode": {
    "name": "ipython",
    "version": 3
   },
   "file_extension": ".py",
   "mimetype": "text/x-python",
   "name": "python",
   "nbconvert_exporter": "python",
   "pygments_lexer": "ipython3",
   "version": "3.13.5"
  }
 },
 "nbformat": 4,
 "nbformat_minor": 5
}
