{
 "cells": [
  {
   "cell_type": "code",
   "execution_count": 4,
   "metadata": {},
   "outputs": [
    {
     "name": "stdout",
     "output_type": "stream",
     "text": [
      "1.\n",
      "jgelb\n",
      "\n",
      "2.\n",
      "jgelb\n",
      "\n",
      "3.\n",
      "jgelb\n",
      "\n",
      "4.\n",
      "jgelb\n",
      "\n",
      "5.\n",
      "4695\n",
      "\n",
      "6.\n",
      "{'mlopez': '4965', 'jsmith': '7208', 'mseid': '9799'}\n",
      "Tong so khach hang:  3\n"
     ]
    }
   ],
   "source": [
    "print(\"1.\")\n",
    "import setup_database\n",
    "\n",
    "username = setup_database.create_username(\"John\", \"Gelb\")\n",
    "print(username)\n",
    "\n",
    "\n",
    "print(\"\\n2.\")\n",
    "import setup_database as sdb\n",
    "\n",
    "username = sdb.create_username(\"John\", \"Gelb\")\n",
    "print(username)\n",
    "\n",
    "\n",
    "print(\"\\n3.\")\n",
    "from setup_database import create_username\n",
    "\n",
    "username = create_username(\"John\", \"Gelb\")\n",
    "print(username)\n",
    "\n",
    "\n",
    "print(\"\\n4.\")\n",
    "from setup_database import create_username as cu\n",
    "\n",
    "# gọi trực tiếp hàm đó ra và cho nó tên \"cu\"\n",
    "username = cu(\"John\", \"Gelb\")\n",
    "print(username)\n",
    "\n",
    "\n",
    "print(\"\\n5.\")\n",
    "import setup_database\n",
    "\n",
    "password = setup_database.create_password()\n",
    "print(password)\n",
    "\n",
    "\n",
    "print(\"\\n6.\")\n",
    "import setup_database\n",
    "\n",
    "customers = [[\"Maria\", \"Lopez\"], [\"Julia\", \"Smith\"], [\"Mohammed\", \"Seid\"]]\n",
    "\n",
    "db, n = setup_database.create_database(customers)\n",
    "\n",
    "print(db)\n",
    "print(\"Tong so khach hang: \", n)\n"
   ]
  }
 ],
 "metadata": {
  "kernelspec": {
   "display_name": "base",
   "language": "python",
   "name": "python3"
  },
  "language_info": {
   "codemirror_mode": {
    "name": "ipython",
    "version": 3
   },
   "file_extension": ".py",
   "mimetype": "text/x-python",
   "name": "python",
   "nbconvert_exporter": "python",
   "pygments_lexer": "ipython3",
   "version": "3.13.5"
  }
 },
 "nbformat": 4,
 "nbformat_minor": 2
}
