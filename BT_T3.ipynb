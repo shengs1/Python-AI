{
 "cells": [
  {
   "cell_type": "code",
   "execution_count": 3,
   "id": "7a6c2f0a-94e8-4da4-b9f6-4b6764134325",
   "metadata": {},
   "outputs": [
    {
     "name": "stdout",
     "output_type": "stream",
     "text": [
      "Chương trình tính diện tích Tam Giác\n"
     ]
    },
    {
     "name": "stdin",
     "output_type": "stream",
     "text": [
      "Nhập cạnh a>0: 5\n",
      "Nhập cạnh b>0: 6\n",
      "Nhập cạnh c>0: 7\n"
     ]
    },
    {
     "name": "stdout",
     "output_type": "stream",
     "text": [
      "Diện tích = 14.696938456699069\n"
     ]
    }
   ],
   "source": [
    "#Câu 1: Viết hàm để Tính diện tích tam giác\n",
    "# Nhập thư viện math để sử dụng hàm sqrt (căn bậc hai)\n",
    "from math import sqrt\n",
    "\n",
    "# In ra tiêu đề chương trình\n",
    "print(\"Chương trình tính diện tích Tam Giác\")\n",
    "\n",
    "# Nhập các cạnh của tam giác từ người dùng và chuyển thành kiểu số thực (float)\n",
    "a = float(input(\"Nhập cạnh a>0:\"))\n",
    "b = float(input(\"Nhập cạnh b>0:\"))\n",
    "c = float(input(\"Nhập cạnh c>0:\"))\n",
    "\n",
    "# Kiểm tra điều kiện hợp lệ của tam giác\n",
    "if (a <= 0 or b <= 0 or c <= 0) or (a + b <= c or a + c <= b or b + c <= a):\n",
    "    # Nếu một trong các cạnh không hợp lệ (<= 0) hoặc không thỏa mãn định lý tam giác (Tổng hai cạnh lớn hơn cạnh còn lại)\n",
    "    print(\"Tam giác không hợp lệ\")\n",
    "else:\n",
    "    # Tính chu vi của tam giác\n",
    "    cv = a + b + c\n",
    "    \n",
    "    # Tính nửa chu vi (p) để dùng trong công thức tính diện tích\n",
    "    p = cv / 2\n",
    "    \n",
    "    # Áp dụng công thức Heron để tính diện tích tam giác:\n",
    "    # Diện tích = sqrt(p * (p - a) * (p - b) * (p - c))\n",
    "    dt = sqrt(p * (p - a) * (p - b) * (p - c))\n",
    "    \n",
    "    # In ra diện tích của tam giác\n",
    "    print(\"Diện tích =\", dt)\n"
   ]
  },
  {
   "cell_type": "code",
   "execution_count": 7,
   "id": "02487587-ce5f-4c42-a5c0-950aeb596208",
   "metadata": {},
   "outputs": [
    {
     "name": "stdin",
     "output_type": "stream",
     "text": [
      "Máy đoán [1..100], mời bạn đoán: 50\n"
     ]
    },
    {
     "name": "stdout",
     "output_type": "stream",
     "text": [
      "Bạn đoán lần thứ  1\n",
      "Bạn đoán sai, số máy > số bạn\n"
     ]
    },
    {
     "name": "stdin",
     "output_type": "stream",
     "text": [
      "Máy đoán [1..100], mời bạn đoán: 75\n"
     ]
    },
    {
     "name": "stdout",
     "output_type": "stream",
     "text": [
      "Bạn đoán lần thứ  2\n",
      "Bạn đoán sai, số máy > số bạn\n"
     ]
    },
    {
     "name": "stdin",
     "output_type": "stream",
     "text": [
      "Máy đoán [1..100], mời bạn đoán: 87\n"
     ]
    },
    {
     "name": "stdout",
     "output_type": "stream",
     "text": [
      "Bạn đoán lần thứ  3\n",
      "Bạn đoán sai, số máy > số bạn\n"
     ]
    },
    {
     "name": "stdin",
     "output_type": "stream",
     "text": [
      "Máy đoán [1..100], mời bạn đoán: 93\n"
     ]
    },
    {
     "name": "stdout",
     "output_type": "stream",
     "text": [
      "Bạn đoán lần thứ  4\n",
      "Bạn đoán sai, số máy > số bạn\n"
     ]
    },
    {
     "name": "stdin",
     "output_type": "stream",
     "text": [
      "Máy đoán [1..100], mời bạn đoán: 96\n"
     ]
    },
    {
     "name": "stdout",
     "output_type": "stream",
     "text": [
      "Bạn đoán lần thứ  5\n",
      "Bạn đoán sai, số máy > số bạn\n"
     ]
    },
    {
     "name": "stdin",
     "output_type": "stream",
     "text": [
      "Máy đoán [1..100], mời bạn đoán: 98\n"
     ]
    },
    {
     "name": "stdout",
     "output_type": "stream",
     "text": [
      "Bạn đoán lần thứ  6\n",
      "Bạn đoán sai, số máy < số bạn\n"
     ]
    },
    {
     "name": "stdin",
     "output_type": "stream",
     "text": [
      "Máy đoán [1..100], mời bạn đoán: 97\n"
     ]
    },
    {
     "name": "stdout",
     "output_type": "stream",
     "text": [
      "Bạn đoán lần thứ  7\n",
      "Chúc mừng bạn đoán đúng, số máy là= 97\n"
     ]
    },
    {
     "name": "stdin",
     "output_type": "stream",
     "text": [
      "Tiếp không? k\n"
     ]
    },
    {
     "name": "stdout",
     "output_type": "stream",
     "text": [
      "Cám ơn bạn đã chơi Game!\n"
     ]
    }
   ],
   "source": [
    "#Câu 2: Viết Hàm để chơi Game Đoán Số\n",
    "#Máy ra 1 số trong đoạn [1...100]\n",
    "#Người chơi đoán số, chỉ được phép đoán sai 7 lần. Mỗi lần đoán sẽ thông báo số người chơi đoán nhỏ hơn hay lớn hơn số của mày và hiển thị số lần đoán\n",
    "#Game kết thúc khi: Đoán sai quá 7 lần hoặc đoán trúng trước 7 lần.\n",
    "#Sau khi game kết thúc hỏi người chơi có tiếp tục hay không?\n",
    "\n",
    "# Import thư viện random để tạo số ngẫu nhiên\n",
    "from random import randrange\n",
    "\n",
    "# Vòng lặp chính cho phép người chơi tiếp tục chơi hoặc dừng sau mỗi ván\n",
    "while True:\n",
    "    # Tạo một số ngẫu nhiên từ 1 đến 100 (số máy đoán)\n",
    "    somay = randrange(1, 101)\n",
    "    \n",
    "    # Biến để đếm số lần người chơi đoán\n",
    "    solandoan = 0\n",
    "    \n",
    "    # Biến kiểm tra xem người chơi đã đoán đúng chưa\n",
    "    win = False\n",
    "    \n",
    "    # Vòng lặp cho phép người chơi tối đa 7 lần đoán\n",
    "    while solandoan < 7:\n",
    "        # Tăng số lần đoán lên 1\n",
    "        solandoan += 1\n",
    "        \n",
    "        # Người chơi nhập vào số đoán của mình\n",
    "        songuoi = int(input(\"Máy đoán [1..100], mời bạn đoán:\"))\n",
    "        \n",
    "        # In ra thông báo về số lần đoán hiện tại\n",
    "        print(\"Bạn đoán lần thứ \", solandoan)\n",
    "        \n",
    "        # Kiểm tra nếu người chơi đoán đúng\n",
    "        if somay == songuoi:\n",
    "            print(\"Chúc mừng bạn đoán đúng, số máy là=\", somay)\n",
    "            win = True  # Đánh dấu người chơi đã thắng\n",
    "            break  # Thoát khỏi vòng lặp nếu người chơi đoán đúng\n",
    "        \n",
    "        # Nếu số máy lớn hơn số người chơi đoán\n",
    "        if somay > songuoi:\n",
    "            print(\"Bạn đoán sai, số máy > số bạn\")\n",
    "        \n",
    "        # Nếu số máy nhỏ hơn số người chơi đoán\n",
    "        elif somay < songuoi:\n",
    "            print(\"Bạn đoán sai, số máy < số bạn\")\n",
    "    \n",
    "    # Nếu người chơi không đoán đúng sau 7 lần\n",
    "    if win == False:\n",
    "        print(\"GAME OVER!, số máy =\", somay)\n",
    "    \n",
    "    # Hỏi người chơi có muốn chơi tiếp không\n",
    "    hoi = input(\"Tiếp không? (k để dừng):\")\n",
    "    \n",
    "    # Nếu người chơi nhập 'k', thoát khỏi vòng lặp chính\n",
    "    if hoi == \"k\":\n",
    "        break\n",
    "\n",
    "# In lời cảm ơn khi người chơi kết thúc trò chơi\n",
    "print(\"Cám ơn bạn đã chơi Game!\")\n",
    "\n",
    "\n"
   ]
  },
  {
   "cell_type": "code",
   "execution_count": 5,
   "id": "deb84668-d463-4b8d-b535-b0e9c5cf7b42",
   "metadata": {},
   "outputs": [
    {
     "name": "stdout",
     "output_type": "stream",
     "text": [
      "Nhập vào chiều cao: (m)\n"
     ]
    },
    {
     "name": "stdin",
     "output_type": "stream",
     "text": [
      " 1.8\n"
     ]
    },
    {
     "name": "stdout",
     "output_type": "stream",
     "text": [
      "Nhập vào cân nặng: (kg)\n"
     ]
    },
    {
     "name": "stdin",
     "output_type": "stream",
     "text": [
      " 55\n"
     ]
    },
    {
     "name": "stdout",
     "output_type": "stream",
     "text": [
      "BMI của bạn = 16.975308641975307\n",
      "Phân loại bạn = Gầy\n",
      "Nguy cơ bệnh của Bạn = Thấp\n"
     ]
    }
   ],
   "source": [
    "#Câu 3 : Viết Hàm tính BMI\n",
    "\n",
    "# Hàm tính chỉ số BMI (Body Mass Index) từ chiều cao và cân nặng\n",
    "def BMI(height, weight):\n",
    "    # Công thức tính BMI: BMI = weight / (height^2)\n",
    "    return weight / (height ** 2)\n",
    "\n",
    "# Hàm phân loại BMI để xác định tình trạng cơ thể\n",
    "def PhanLoai(bmi):\n",
    "    # Phân loại BMI theo các nhóm chuẩn của WHO\n",
    "    if bmi < 18.5:\n",
    "        return \"Gầy\"  # BMI dưới 18.5 là gầy\n",
    "    elif bmi <= 24.9:\n",
    "        return \"Bình thường\"  # BMI từ 18.5 đến 24.9 là bình thường\n",
    "    elif bmi <= 29.9:\n",
    "        return \"Hơi Béo\"  # BMI từ 25 đến 29.9 là hơi béo\n",
    "    elif bmi <= 34.9:\n",
    "        return \"Béo Phì Cấp Độ 1\"  # BMI từ 30 đến 34.9 là béo phì cấp độ 1\n",
    "    elif bmi <= 39.9:\n",
    "        return \"Béo Phì Cấp Độ 2\"  # BMI từ 35 đến 39.9 là béo phì cấp độ 2\n",
    "    else:\n",
    "        return \"Béo Phì Cấp độ 3\"  # BMI trên 40 là béo phì cấp độ 3\n",
    "\n",
    "# Hàm xác định nguy cơ bệnh dựa trên chỉ số BMI\n",
    "def NguyCoBenh(bmi):\n",
    "    # Dựa vào mức độ BMI, xác định nguy cơ bệnh\n",
    "    if bmi < 18.5:\n",
    "        return \"Thấp\"  # Nguy cơ bệnh thấp nếu BMI dưới 18.5\n",
    "    elif bmi <= 24.9:\n",
    "        return \"Trung Bình\"  # Nguy cơ bệnh trung bình nếu BMI trong khoảng bình thường\n",
    "    elif bmi <= 29.9:\n",
    "        return \"Cao\"  # Nguy cơ bệnh cao nếu BMI từ 25 đến 29.9\n",
    "    elif bmi <= 34.9:\n",
    "        return \"Cao\"  # Nguy cơ bệnh cao nếu BMI từ 30 đến 34.9\n",
    "    elif bmi <= 39.9:\n",
    "        return \"Rất cao\"  # Nguy cơ bệnh rất cao nếu BMI từ 35 đến 39.9\n",
    "    else:\n",
    "        return \"Nguy Hiểm\"  # Nguy cơ bệnh nguy hiểm nếu BMI trên 40\n",
    "\n",
    "# In ra tiêu đề yêu cầu người dùng nhập chiều cao\n",
    "print(\"Nhập vào chiều cao: (m)\")\n",
    "\n",
    "# Nhận giá trị chiều cao từ người dùng và chuyển đổi sang kiểu số thực (float)\n",
    "height = float(input())\n",
    "\n",
    "# In ra yêu cầu người dùng nhập cân nặng\n",
    "print(\"Nhập vào cân nặng: (kg)\")\n",
    "\n",
    "# Nhận giá trị cân nặng từ người dùng và chuyển đổi sang kiểu số thực (float)\n",
    "weight = float(input())\n",
    "\n",
    "# Tính chỉ số BMI bằng cách gọi hàm BMI và lưu kết quả vào biến bmi\n",
    "bmi = BMI(height, weight)\n",
    "\n",
    "# In ra giá trị BMI đã tính được\n",
    "print(\"BMI của bạn =\", bmi)\n",
    "\n",
    "# Gọi hàm PhanLoai để phân loại tình trạng cơ thể dựa trên BMI và in ra kết quả\n",
    "print(\"Phân loại bạn =\", PhanLoai(bmi))\n",
    "\n",
    "# Gọi hàm NguyCoBenh để đưa ra mức độ nguy cơ bệnh và in ra kết quả\n",
    "print(\"Nguy cơ bệnh của Bạn =\", NguyCoBenh(bmi))\n"
   ]
  },
  {
   "cell_type": "code",
   "execution_count": 5,
   "id": "e9412bc8-b9d6-403d-bd51-ab260c073294",
   "metadata": {},
   "outputs": [
    {
     "name": "stdout",
     "output_type": "stream",
     "text": [
      "Chương trình tính ROI\n"
     ]
    },
    {
     "name": "stdin",
     "output_type": "stream",
     "text": [
      "Nhập Doanh Thu: 4\n",
      "Nhập chi phí: 5\n"
     ]
    },
    {
     "name": "stdout",
     "output_type": "stream",
     "text": [
      "Tỉ Lệ ROI = -0.2\n",
      "==> Không nên đầu tư\n"
     ]
    }
   ],
   "source": [
    "#Câu 4: Viết Hàm tính ROI\n",
    "# ROI (Return On Investment), một thuật ngữ quan trọng trong marketing, mà đặc biệt là SEO, tạm dịch là tỷ lệ lợi nhuận thu được so với chi phí bạn đầu tư. Có thể hiểu ROI một cách đơn giản chính là chỉ số đo lường tỷ lệ những gì bạn thu về so với những gì bạn phải bỏ ra.\n",
    "# Hiểu đúng bản chất của ROI, bạn sẽ đo lường được hiệu quả đồng vốn đầu tư của mình cho các chi phí như quảng cáo, chạy Adwords, hay chi phí marketing online khác.\n",
    "# Vì ROI dựa vào các chỉ số cụ thể, nên nó cũng là một thước đo rất cụ thể:\n",
    "# ROI = (Doanh thu – Chi phí)/Chi phí\n",
    "# Viết chương trình cho phép người dùng nhập vào Doanh thu và Chi phí và xuất ra tỉ lệ ROI cho người dùng, đồng thời hãy cho biết nên hay không nên đầu tư dự án khi biết ROI (giả sử mức tổi thiểu ROI =0.75 thì mới đầu tư). \n",
    "\n",
    "# Hàm tính tỷ lệ lợi nhuận (ROI - Return on Investment)\n",
    "def ROI(dt, cp):\n",
    "    # ROI = (Doanh Thu - Chi Phí) / Chi Phí\n",
    "    return (dt - cp) / cp\n",
    "\n",
    "# Hàm đưa ra lời khuyên đầu tư dựa trên ROI\n",
    "def GoiYDauTu(roi):\n",
    "    # Nếu ROI >= 0.75, nghĩa là lợi nhuận vượt trội, nên đầu tư\n",
    "    if roi >= 0.75:\n",
    "        return \"Nên đầu tư\"\n",
    "    # Nếu ROI < 0.75, nghĩa là lợi nhuận thấp, không nên đầu tư\n",
    "    else:\n",
    "        return \"Không nên đầu tư\"\n",
    "\n",
    "# In ra tiêu đề chương trình\n",
    "print(\"Chương trình tính ROI\")\n",
    "\n",
    "# Nhập Doanh Thu từ người dùng và chuyển thành kiểu dữ liệu int (số nguyên)\n",
    "dt = int(input(\"Nhập Doanh Thu:\"))\n",
    "\n",
    "# Nhập Chi Phí từ người dùng và chuyển thành kiểu dữ liệu int (số nguyên)\n",
    "cp = int(input(\"Nhập chi phí:\"))\n",
    "\n",
    "# Tính tỷ lệ ROI bằng cách gọi hàm ROI và lưu kết quả vào biến roi\n",
    "roi = ROI(dt, cp)\n",
    "\n",
    "# In ra giá trị ROI đã tính được\n",
    "print(\"Tỉ Lệ ROI =\", roi)\n",
    "\n",
    "# Gọi hàm GoiYDauTu để nhận lời khuyên đầu tư dựa trên ROI, sau đó in ra kết quả\n",
    "print(\"==>\", GoiYDauTu(roi))\n",
    "\n"
   ]
  },
  {
   "cell_type": "code",
   "execution_count": 9,
   "id": "20d96cc3-f7a9-409d-bf0a-a23fe037407a",
   "metadata": {},
   "outputs": [
    {
     "name": "stdout",
     "output_type": "stream",
     "text": [
      "34\n",
      "1\t1\t2\t3\t5\t8\t13\t21\t34\t\n"
     ]
    }
   ],
   "source": [
    "# Câu 5: Viết hàm đệ qui Fibonacci\n",
    "# Dãy Số Fibonacci là dãy số có dạng:\n",
    "# 1->1->2->3->5->8->13->21->34->55->89…\n",
    "# Được định nghĩa theo công thức đệ qui như dưới đây:\n",
    "# Nếu N=1,N=2FN=1\n",
    "# N>2 FN=FN-1+FN-2\n",
    "# Hãy viết 2 hàm:\n",
    "# - Hàm trả về số Fib tại vị trí thứ N bất kỳ\n",
    "# - Hàm trả về danh sách dãy số Fib từ 1 tới N\n",
    "\n",
    "# Hàm tính số Fibonacci tại vị trí n\n",
    "def fibonacci(n):\n",
    "    # Nếu n <= 2, trả về 1 vì F(1) = 1 và F(2) = 1\n",
    "    if n <= 2:\n",
    "        return 1\n",
    "    # Nếu n > 2, tính Fibonacci theo công thức đệ quy: F(n) = F(n-1) + F(n-2)\n",
    "    return fibonacci(n-1) + fibonacci(n-2)\n",
    "\n",
    "# Hàm in ra dãy Fibonacci từ F(1) đến F(n)\n",
    "def listfibo(n):\n",
    "    # Duyệt qua tất cả các chỉ số từ 1 đến n (bao gồm cả n)\n",
    "    for i in range(1, n+1):\n",
    "        # Gọi hàm fibonacci(i) để tính số Fibonacci tại vị trí i\n",
    "        # In ra số Fibonacci tại vị trí i và ngăn cách giữa các số bằng dấu tab\n",
    "        print(fibonacci(i), end='\\t')\n",
    "    print()  # In một dòng trống sau khi in dãy số Fibonacci\n",
    "\n",
    "# In ra số Fibonacci tại vị trí thứ 9\n",
    "print(fibonacci(9))  # Kết quả sẽ là 34, vì F(9) = 34\n",
    "\n",
    "# In ra dãy Fibonacci từ F(1) đến F(9)\n",
    "listfibo(9)  # Kết quả sẽ là: 1   1   2   3   5   8   13  21  34\n",
    "\n"
   ]
  },
  {
   "cell_type": "code",
   "execution_count": 14,
   "id": "6f2f884a-d17d-4c03-81d6-6ffbc912290b",
   "metadata": {},
   "outputs": [
    {
     "name": "stdout",
     "output_type": "stream",
     "text": [
      "4.5  không thể xuất hiện.\n",
      "34  có thể xuất hiện.\n",
      "-1  không thể xuất hiện.\n",
      "100  có thể xuất hiện.\n",
      "0  có thể xuất hiện.\n",
      "99  có thể xuất hiện.\n"
     ]
    }
   ],
   "source": [
    "# Câu 6 : : Những giá trị nào có thể xuất hiện trong  randrange(0, 100)\n",
    "# Những giá trị nào có thể xuất hiện khi chạy randrange(0, 100)?\n",
    "#\t4.5 , 34 , -1,  100,  0,  99\n",
    "\n",
    "from random import randrange\n",
    "\n",
    "# Kiểm tra các giá trị có thể xuất hiện trong randrange(0, 100)\n",
    "values_check = [4.5, 34, -1, 100, 0, 99]\n",
    "\n",
    "# Kiểm tra và in ra giá trị có thể xuất hiện\n",
    "for value in values_check:\n",
    "    if isinstance(value, int) and 0 <= value < 101:\n",
    "        print(value, \" có thể xuất hiện.\")\n",
    "    else:\n",
    "        print(value, \" không thể xuất hiện.\")\n"
   ]
  },
  {
   "cell_type": "code",
   "execution_count": 18,
   "id": "c8ef4473-b325-4092-8438-e6f590242108",
   "metadata": {},
   "outputs": [
    {
     "name": "stdin",
     "output_type": "stream",
     "text": [
      "Nhập tọa độ xA:  5\n",
      "Nhập tọa độ yA:  5\n",
      "Nhập tọa độ xB:  6\n",
      "Nhập tọa độ yB:  7\n"
     ]
    },
    {
     "name": "stdout",
     "output_type": "stream",
     "text": [
      "Độ dài đoạn AB là:  2.23606797749979\n"
     ]
    }
   ],
   "source": [
    "# Câu 7: Tính và xuất độ dài đoạn AB\n",
    "# Nhập toạ độ 2 điểm A(xA,yA), B(xB,yB). Tính và xuất độ dài đoạn AB.\n",
    "\n",
    "from math import sqrt\n",
    "\n",
    "# Nhập tọa độ của hai điểm A và B\n",
    "xA = float(input(\"Nhập tọa độ xA: \"))\n",
    "yA = float(input(\"Nhập tọa độ yA: \"))\n",
    "xB = float(input(\"Nhập tọa độ xB: \"))\n",
    "yB = float(input(\"Nhập tọa độ yB: \"))\n",
    "\n",
    "# Tính độ dài đoạn AB\n",
    "dodai = sqrt((xB - xA)**2 + (yB - yA)**2)\n",
    "\n",
    "# Xuất kết quả\n",
    "print(\"Độ dài đoạn AB là: \", dodai)\n"
   ]
  },
  {
   "cell_type": "code",
   "execution_count": 24,
   "id": "36afe3d6-2aa6-476a-8b11-76c07687ac4d",
   "metadata": {},
   "outputs": [
    {
     "name": "stdin",
     "output_type": "stream",
     "text": [
      "Nhập giá trị a (a > 0 và a ≠ 1):  2\n",
      "Nhập giá trị x (x > 0):  3\n"
     ]
    },
    {
     "name": "stdout",
     "output_type": "stream",
     "text": [
      "Log_ 2.0 ( 3.0 ) = 1.5849625007211563\n"
     ]
    }
   ],
   "source": [
    "# Câu 8 : Viết chương trình tính logax\n",
    "\n",
    "#Yêu cầu:\n",
    "#Viết chương trình tính logax với a, x là các số thực nhập vào từ bàn phím, và x>0, a>0, a != 1.( dùng logax=lnx/lna)\n",
    "\n",
    "\n",
    "from math import log\n",
    "\n",
    "# Nhập giá trị của a và x từ bàn phím\n",
    "a = float(input(\"Nhập giá trị a (a > 0 và a ≠ 1): \"))\n",
    "x = float(input(\"Nhập giá trị x (x > 0): \"))\n",
    "\n",
    "# Kiểm tra điều kiện hợp lệ\n",
    "if a <= 0 or a == 1:\n",
    "    print(\"Giá trị a phải lớn hơn 0 và khác 1.\")\n",
    "elif x <= 0:\n",
    "    print(\"Giá trị x phải lớn hơn 0.\")\n",
    "else:\n",
    "    # Tính loga(x) theo công thức loga(x) = ln(x) / ln(a)\n",
    "    loga_x = log(x) / log(a)\n",
    "\n",
    "    # Xuất kết quả\n",
    "    print(\"Log_\", a, \"(\", x, \") =\", loga_x)\n"
   ]
  },
  {
   "cell_type": "code",
   "execution_count": 26,
   "id": "c52bd178-b16d-4311-89d5-0b29cd9392c8",
   "metadata": {},
   "outputs": [
    {
     "name": "stdin",
     "output_type": "stream",
     "text": [
      "Nhập n:  5\n"
     ]
    },
    {
     "name": "stdout",
     "output_type": "stream",
     "text": [
      "S( 5 ) = 2.0\n"
     ]
    }
   ],
   "source": [
    "# Câu 9 : Viết chương trình tính căn bậc 2 lồng nhau\n",
    "\n",
    "from math import sqrt\n",
    "\n",
    "# Hàm tính S(n)\n",
    "def calculate_S(n):\n",
    "    result = 2  # Khởi tạo với giá trị ban đầu là 2\n",
    "    # Lặp n-1 lần để tính giá trị căn bậc 2 lồng nhau\n",
    "    for i in range(n - 1):\n",
    "        result = sqrt(2 + result)  # Cập nhật giá trị với căn bậc 2\n",
    "    return result\n",
    "\n",
    "# Nhập n từ người dùng\n",
    "n = int(input(\"Nhập n: \"))\n",
    "\n",
    "# Tính và xuất kết quả\n",
    "S_n = calculate_S(n)\n",
    "print(\"S(\",n,\") =\", S_n)\n"
   ]
  },
  {
   "cell_type": "code",
   "execution_count": 28,
   "id": "a8853032-cc2b-4b45-8d16-4050059ada50",
   "metadata": {},
   "outputs": [
    {
     "name": "stdout",
     "output_type": "stream",
     "text": [
      "\n",
      "      *\n",
      "      * *\n",
      "      * * *\n",
      "* * * * * * * \n",
      "* * *\n",
      "* *\n",
      "*\n",
      "\n",
      "\n",
      "      *\n",
      "      * *\n",
      "      *   *\n",
      "* * * * * * * \n",
      "*   *\n",
      "* *\n",
      "*\n",
      "\n",
      "\n",
      "     * * * * \n",
      "     * * * \n",
      "     * *\n",
      "     *\n",
      "   * *\n",
      " * * *\n",
      "* * * *\n",
      "\n",
      "\n",
      "     * * * * \n",
      "     *   * \n",
      "     * *\n",
      "     *\n",
      "   * *\n",
      " *   *\n",
      "* * * *\n",
      "\n"
     ]
    }
   ],
   "source": [
    "# Câu 10\n",
    "\n",
    "import time\n",
    "\n",
    "# Định nghĩa các hình vẽ sao\n",
    "shape1 = '''\n",
    "      *\n",
    "      * *\n",
    "      * * *\n",
    "* * * * * * * \n",
    "* * *\n",
    "* *\n",
    "*\n",
    "'''\n",
    "\n",
    "shape2 = '''\n",
    "      *\n",
    "      * *\n",
    "      *   *\n",
    "* * * * * * * \n",
    "*   *\n",
    "* *\n",
    "*\n",
    "'''\n",
    "\n",
    "shape3 = '''\n",
    "     * * * * \n",
    "     * * * \n",
    "     * *\n",
    "     *\n",
    "   * *\n",
    " * * *\n",
    "* * * *\n",
    "'''\n",
    "\n",
    "shape4 = '''\n",
    "     * * * * \n",
    "     *   * \n",
    "     * *\n",
    "     *\n",
    "   * *\n",
    " *   *\n",
    "* * * *\n",
    "'''\n",
    "\n",
    "# In hình đầu tiên\n",
    "print(shape1)\n",
    "time.sleep(5)  # Tạm dừng 5 giây\n",
    "\n",
    "# In hình thứ hai\n",
    "print(shape2)\n",
    "time.sleep(5)  # Tạm dừng 5 giây\n",
    "\n",
    "# In hình thứ ba\n",
    "print(shape3)\n",
    "time.sleep(5)  # Tạm dừng 5 giây\n",
    "\n",
    "# In hình thứ tư\n",
    "print(shape4)\n"
   ]
  },
  {
   "cell_type": "code",
   "execution_count": 31,
   "id": "0c395f95-c9c1-48df-8108-14a4c9f73852",
   "metadata": {},
   "outputs": [
    {
     "name": "stdout",
     "output_type": "stream",
     "text": [
      "5\n",
      "5\n",
      "0\n"
     ]
    }
   ],
   "source": [
    "# Câu 11: Kiểm tra kết quả thực hiện\n",
    "# Trường hợp 1:\n",
    "\n",
    "# Hàm sum1: Tính tổng số lần lặp cho đến khi n giảm về 0\n",
    "def sum1(n):\n",
    "    s = 0  # Khởi tạo biến s để lưu tổng\n",
    "    while n > 0:  # Vòng lặp sẽ tiếp tục khi n > 0\n",
    "        s += 1  # Tăng giá trị s lên 1 trong mỗi vòng lặp\n",
    "        n -= 1  # Giảm n đi 1\n",
    "    return s  # Trả về tổng số lần lặp\n",
    "\n",
    "# Hàm sum2: Sử dụng biến global val để tính tổng số lần lặp\n",
    "def sum2():\n",
    "    global val  # Tham chiếu đến biến global val\n",
    "    s = 0  # Khởi tạo biến s để lưu tổng\n",
    "    while val > 0:  # Vòng lặp sẽ tiếp tục khi val > 0\n",
    "        s += 1  # Tăng giá trị s lên 1 trong mỗi vòng lặp\n",
    "        val -= 1  # Giảm val đi 1\n",
    "    return s  # Trả về tổng số lần lặp\n",
    "\n",
    "# Hàm sum3: Dùng vòng lặp for để tính tổng số lần lặp từ val xuống 1\n",
    "def sum3():\n",
    "    s = 0  # Khởi tạo biến s để lưu tổng\n",
    "    for i in range(val, 0, -1):  # Duyệt từ val đến 1 (giảm dần)\n",
    "        s += 1  # Tăng giá trị s lên 1 trong mỗi vòng lặp\n",
    "    return s  # Trả về tổng số lần lặp\n",
    "\n",
    "# Hàm main: Làm việc với các hàm sum1, sum2, sum3 và in kết quả\n",
    "def main():\n",
    "    global val  # Sử dụng biến global val trong main\n",
    "    val = 5  # Gán giá trị 5 cho val\n",
    "    print(sum1(5))  # Gọi hàm sum1 với n = 5 và in kết quả\n",
    "    print(sum2())  # Gọi hàm sum2 và in kết quả\n",
    "    print(sum3())  # Gọi hàm sum3 và in kết quả\n",
    "\n",
    "# Chạy chương trình chính\n",
    "main()\n"
   ]
  },
  {
   "cell_type": "code",
   "execution_count": 32,
   "id": "77eb6e3d-08a7-4bfe-a70f-cb022b45d279",
   "metadata": {},
   "outputs": [
    {
     "name": "stdout",
     "output_type": "stream",
     "text": [
      "5\n",
      "5\n",
      "5\n"
     ]
    }
   ],
   "source": [
    "# Câu 11: Kiểm tra kết quả thực hiện\n",
    "# Trường hợp 2:\n",
    "\n",
    "# Hàm sum1: Tính tổng số lần lặp cho đến khi n giảm về 0\n",
    "def sum1(n):\n",
    "    s = 0  # Khởi tạo biến s để lưu tổng\n",
    "    while n > 0:  # Vòng lặp sẽ tiếp tục khi n > 0\n",
    "        s += 1  # Tăng giá trị s lên 1 trong mỗi vòng lặp\n",
    "        n -= 1  # Giảm n đi 1\n",
    "    return s  # Trả về tổng số lần lặp\n",
    "\n",
    "# Hàm sum2: Sử dụng biến global val để tính tổng số lần lặp\n",
    "def sum2():\n",
    "    global val  # Tham chiếu đến biến global val\n",
    "    s = 0  # Khởi tạo biến s để lưu tổng\n",
    "    while val > 0:  # Vòng lặp sẽ tiếp tục khi val > 0\n",
    "        s += 1  # Tăng giá trị s lên 1 trong mỗi vòng lặp\n",
    "        val -= 1  # Giảm val đi 1\n",
    "    return s  # Trả về tổng số lần lặp\n",
    "\n",
    "# Hàm sum3: Dùng vòng lặp for để tính tổng số lần lặp từ val xuống 1\n",
    "def sum3():\n",
    "    s = 0  # Khởi tạo biến s để lưu tổng\n",
    "    for i in range(val, 0, -1):  # Duyệt từ val đến 1 (giảm dần)\n",
    "        s += 1  # Tăng giá trị s lên 1 trong mỗi vòng lặp\n",
    "    return s  # Trả về tổng số lần lặp\n",
    "\n",
    "# Hàm main: Làm việc với các hàm sum1, sum2, sum3 và in kết quả\n",
    "def main():\n",
    "    global val  # Sử dụng biến global val trong main\n",
    "    val = 5  # Gán giá trị 5 cho val\n",
    "    print(sum1(5))  # Gọi hàm sum1 với n = 5 và in kết quả\n",
    "    print(sum3())  # Gọi hàm sum3 và in kết quả\n",
    "    print(sum2())  # Gọi hàm sum2 và in kết quả\n",
    "\n",
    "# Chạy chương trình chính\n",
    "main()"
   ]
  },
  {
   "cell_type": "code",
   "execution_count": 33,
   "id": "416e38fe-bd50-4cdc-aabf-46266474e7e4",
   "metadata": {},
   "outputs": [
    {
     "name": "stdout",
     "output_type": "stream",
     "text": [
      "5\n",
      "5\n",
      "0\n"
     ]
    }
   ],
   "source": [
    "# Câu 11: Kiểm tra kết quả thực hiện\n",
    "# Trường hợp 3:\n",
    "\n",
    "# Hàm sum1: Tính tổng số lần lặp cho đến khi n giảm về 0\n",
    "def sum1(n):\n",
    "    s = 0  # Khởi tạo biến s để lưu tổng\n",
    "    while n > 0:  # Vòng lặp sẽ tiếp tục khi n > 0\n",
    "        s += 1  # Tăng giá trị s lên 1 trong mỗi vòng lặp\n",
    "        n -= 1  # Giảm n đi 1\n",
    "    return s  # Trả về tổng số lần lặp\n",
    "\n",
    "# Hàm sum2: Sử dụng biến global val để tính tổng số lần lặp\n",
    "def sum2():\n",
    "    global val  # Tham chiếu đến biến global val\n",
    "    s = 0  # Khởi tạo biến s để lưu tổng\n",
    "    while val > 0:  # Vòng lặp sẽ tiếp tục khi val > 0\n",
    "        s += 1  # Tăng giá trị s lên 1 trong mỗi vòng lặp\n",
    "        val -= 1  # Giảm val đi 1\n",
    "    return s  # Trả về tổng số lần lặp\n",
    "\n",
    "# Hàm sum3: Dùng vòng lặp for để tính tổng số lần lặp từ val xuống 1\n",
    "def sum3():\n",
    "    s = 0  # Khởi tạo biến s để lưu tổng\n",
    "    for i in range(val, 0, -1):  # Duyệt từ val đến 1 (giảm dần)\n",
    "        s += 1  # Tăng giá trị s lên 1 trong mỗi vòng lặp\n",
    "    return s  # Trả về tổng số lần lặp\n",
    "\n",
    "# Hàm main: Làm việc với các hàm sum1, sum2, sum3 và in kết quả\n",
    "def main():\n",
    "    global val  # Sử dụng biến global val trong main\n",
    "    val = 5  # Gán giá trị 5 cho val\n",
    "    print(sum2())  # Gọi hàm sum2 và in kết quả\n",
    "    print(sum1(5)) # Gọi hàm sum1 với n = 5 và in kết quả\n",
    "    print(sum3())  # Gọi hàm sum3 và in kết quả\n",
    "\n",
    "# Chạy chương trình chính\n",
    "main()"
   ]
  },
  {
   "cell_type": "code",
   "execution_count": 35,
   "id": "8c0c398f-e43a-432a-bd73-2180183f0f11",
   "metadata": {},
   "outputs": [
    {
     "name": "stdout",
     "output_type": "stream",
     "text": [
      "-3  3  -2  2  -1  1  0  0  1  -1  2  -2  3  -3  4  -4  "
     ]
    }
   ],
   "source": [
    "# Câu 12: Hàm oscillate\n",
    "\n",
    "# Yêu cầu:\n",
    "# Cho mã lệnh:\n",
    " \n",
    "# Hãy viết hàm oscillate để khi chạy phần mềm, nó ra kết quả:\n",
    "# -3   3   -2   2   -1   1   0   0   1   -1   2   -2   3   -3   4   -4\n",
    "\n",
    "def oscillate():\n",
    "    # Sử dụng vòng lặp để in ra các giá trị\n",
    "    for i in range(-3, 5):  # Lặp từ -3 đến -4 (bao gồm cả -3)\n",
    "        print(i, end='  ')  # In số i với dấu cách\n",
    "        print(-i, end='  ')  # In số âm của i với dấu cách\n",
    "\n",
    "# Gọi hàm để in ra kết quả\n",
    "oscillate()\n"
   ]
  },
  {
   "cell_type": "code",
   "execution_count": 37,
   "id": "98bc7f9d-ef6c-4aff-bea6-45ed32e74590",
   "metadata": {},
   "outputs": [
    {
     "name": "stdin",
     "output_type": "stream",
     "text": [
      "Nhập một số nguyên dương:  28\n"
     ]
    },
    {
     "name": "stdout",
     "output_type": "stream",
     "text": [
      "28 là số hoàn thiện.\n",
      "28 không phải là số thịnh vượng.\n"
     ]
    }
   ],
   "source": [
    "# Câu 13: Hàm kiểm tra số hoàn thiện, số thịnh vượng\n",
    "\n",
    "# Yêu cầu:\n",
    "# Viết hàm tính tổng ước số để áp dụng chung cho 2 bài dưới đây:\n",
    "# a) Kiểm tra số nguyên dương n có phải là số hoàn thiện (Pefect number) hay không? (Số hoàn thiện là số có tổng các ước số của nó (không kể nó) thì bằng chính nó. Vd: 6 có các ước số là 1,2,3 và 6=1+2+3 6 là số hoàn thiện)\n",
    "# b) Kiểm tra số nguyên dương n có phải là số thịnh vượng (Abundant number)hay không? (Số thịnh vượng là số có tổng các ước số của nó (không kể nó) thì lớn hơn nó. Vd:12 có các ước số là 1,2,3,4,6 và 12<1+2+3+4+6 12 là số thịnh vượng)\n",
    "\n",
    "# Hàm tính tổng các ước số của n (không tính chính nó)\n",
    "def sum_of_divisors(n):\n",
    "    total = 0\n",
    "    for i in range(1, n // 2 + 1):  # Chỉ cần kiểm tra đến n//2 vì các ước số lớn hơn n/2 không thể là ước số của n\n",
    "        if n % i == 0:\n",
    "            total += i\n",
    "    return total\n",
    "\n",
    "# Hàm kiểm tra số hoàn thiện\n",
    "def perfect(n):\n",
    "    if sum_of_divisors(n) == n:\n",
    "        return True\n",
    "    return False\n",
    "\n",
    "# Hàm kiểm tra số thịnh vượng\n",
    "def abundant(n):\n",
    "    if sum_of_divisors(n) > n:\n",
    "        return True\n",
    "    return False\n",
    "\n",
    "# Hàm main để kiểm tra\n",
    "def main():\n",
    "    # Nhập số nguyên dương từ người dùng\n",
    "    n = int(input(\"Nhập một số nguyên dương: \"))\n",
    "\n",
    "    # Kiểm tra và in kết quả\n",
    "    if perfect(n):\n",
    "        print(n, \"là số hoàn thiện.\")\n",
    "    else:\n",
    "        print(n, \"không phải là số hoàn thiện.\")\n",
    "    \n",
    "    if abundant(n):\n",
    "        print(n, \"là số thịnh vượng.\")\n",
    "    else:\n",
    "        print(n, \"không phải là số thịnh vượng.\")\n",
    "\n",
    "# Gọi hàm main để thực thi chương trình\n",
    "main()\n"
   ]
  },
  {
   "cell_type": "code",
   "execution_count": 38,
   "id": "13d30b0f-725c-410a-be53-616743578c34",
   "metadata": {},
   "outputs": [
    {
     "name": "stdout",
     "output_type": "stream",
     "text": [
      "Nhập 1 chuỗi:\n"
     ]
    },
    {
     "name": "stdin",
     "output_type": "stream",
     "text": [
      " 1 2 3 4 5 6 7 8\n"
     ]
    },
    {
     "name": "stdout",
     "output_type": "stream",
     "text": [
      "Chuỗi bạn nhập không đối xứng\n",
      "Tiếp không Thím?(c/k):\n"
     ]
    },
    {
     "name": "stdin",
     "output_type": "stream",
     "text": [
      " k\n"
     ]
    },
    {
     "name": "stdout",
     "output_type": "stream",
     "text": [
      "CÁM ƠN THÍM\n"
     ]
    }
   ],
   "source": [
    "#   6.\tXỬ LÝ CHUỖI\n",
    "# Câu 1: Kiểm tra chuỗi đối xứng\n",
    "\n",
    "# Yêu cầu:\n",
    "# Dùng vòng lặp while vĩnh cửu, cho phép Nhập vào một ChuỗiXuất Chuỗi này có phải đối xứng hay không? Hỏi người sử dụng có tiếp tục phần mềm. Nếu tiếp tục thì nhập Chuỗi mới, còn không thì thoát và thông báo cảm ơn.\n",
    "\n",
    "# Hàm kiểm tra chuỗi đối xứng\n",
    "def CheckDoiXung(s):\n",
    "    flag = True  # Biến flag để theo dõi xem chuỗi có đối xứng hay không, mặc định là True\n",
    "    for i in range(len(s)):  # Duyệt qua từng ký tự trong chuỗi\n",
    "        # So sánh ký tự ở vị trí i với ký tự đối xứng tại vị trí len(s)-i-1\n",
    "        if s[i] != s[len(s) - i - 1]:  # Nếu không bằng nhau, chuỗi không đối xứng\n",
    "            flag = False  # Đặt flag thành False\n",
    "            break  # Thoát khỏi vòng lặp vì đã tìm thấy ký tự không đối xứng\n",
    "    return flag  # Trả về True nếu chuỗi đối xứng, ngược lại là False\n",
    "\n",
    "# Hàm main, nơi người dùng nhập chuỗi và kiểm tra tính đối xứng\n",
    "def main():\n",
    "    print(\"Nhập 1 chuỗi:\")  # Yêu cầu người dùng nhập chuỗi\n",
    "    s = input()  # Nhận chuỗi từ người dùng\n",
    "    if CheckDoiXung(s):  # Kiểm tra chuỗi có đối xứng không\n",
    "        print(\"Chuỗi bạn nhập đối xứng\")  # Nếu đối xứng, thông báo cho người dùng\n",
    "    else:\n",
    "        print(\"Chuỗi bạn nhập không đối xứng\")  # Nếu không đối xứng, thông báo cho người dùng\n",
    "\n",
    "# Vòng lặp chính để chương trình tiếp tục kiểm tra nhiều chuỗi\n",
    "while True:\n",
    "    main()  # Gọi hàm main để thực hiện kiểm tra đối xứng\n",
    "    print(\"Tiếp không Thím?(c/k):\")  # Hỏi người dùng có muốn kiểm tra thêm không\n",
    "    s = input()  # Nhận đáp án từ người dùng\n",
    "    if s == \"k\":  # Nếu người dùng nhập 'k', kết thúc vòng lặp\n",
    "        break  # Dừng vòng lặp và kết thúc chương trình\n",
    "\n",
    "print(\"CÁM ƠN THÍM\")  # In lời cảm ơn khi kết thúc chương trình\n"
   ]
  },
  {
   "cell_type": "code",
   "execution_count": 39,
   "id": "e098c9a0-a794-4483-a2aa-efae528ac6d6",
   "metadata": {},
   "outputs": [
    {
     "name": "stdout",
     "output_type": "stream",
     "text": [
      "    Trần     Duy     Thanh    => 29\n",
      "Trần Duy Thanh => 14\n"
     ]
    }
   ],
   "source": [
    "# Câu 2: Viết chương trình tối ưu chuỗi\n",
    "\n",
    "# Yêu cầu:\n",
    "# Một Chuỗi được gọi là tối ưu khi: Không chứa các khoảng trắng dư thừa, các từ cách nhau bởi một khoảng trắng\n",
    "\n",
    "# Hàm ToiUuChuoi: Tối ưu chuỗi (xóa khoảng trắng thừa ở đầu, cuối và giữa các từ)\n",
    "def ToiUuChuoi(s):\n",
    "    s2 = s  # Gán chuỗi ban đầu vào biến s2\n",
    "    s2 = s2.strip()  # Xóa khoảng trắng ở đầu và cuối chuỗi\n",
    "    arr = s2.split(' ')  # Tách chuỗi s2 thành danh sách các từ, phân tách theo dấu cách\n",
    "    s2 = \"\"  # Khởi tạo lại chuỗi s2 để lưu kết quả tối ưu\n",
    "    \n",
    "    # Duyệt qua từng từ trong danh sách arr\n",
    "    for x in arr:\n",
    "        word = x  # Lấy mỗi từ trong danh sách arr\n",
    "        if len(word.strip()) != 0:  # Kiểm tra từ có rỗng hay không (sau khi xóa khoảng trắng)\n",
    "            s2 = s2 + word + \" \"  # Nếu từ không rỗng, nối nó vào chuỗi s2 và thêm một khoảng trắng\n",
    "    \n",
    "    return s2.strip()  # Trả về chuỗi s2 sau khi loại bỏ khoảng trắng thừa ở cuối\n",
    "\n",
    "# Chuỗi đầu vào có khoảng trắng thừa\n",
    "s = \"    Trần     Duy     Thanh   \"\n",
    "print(s, \"=>\", len(s))  # In ra chuỗi ban đầu và độ dài của chuỗi ban đầu\n",
    "\n",
    "# Gọi hàm ToiUuChuoi để tối ưu chuỗi\n",
    "s = ToiUuChuoi(s)\n",
    "\n",
    "# In ra chuỗi sau khi đã được tối ưu và độ dài của chuỗi tối ưu\n",
    "print(s, \"=>\", len(s))\n",
    "\n"
   ]
  },
  {
   "cell_type": "code",
   "execution_count": 40,
   "id": "ca212c35-79fb-493a-b4ef-0e4ff89adafb",
   "metadata": {},
   "outputs": [
    {
     "name": "stdout",
     "output_type": "stream",
     "text": [
      "5\n",
      "7\n",
      "8\n",
      "-2\n",
      "8\n",
      "11\n",
      "-13\n",
      "9\n",
      "10\n",
      "Số chẵn = 4\n",
      "Số âm = 2\n",
      "Số Nguyên tố = 3\n",
      "Trung bình = 4.777777777777778\n"
     ]
    }
   ],
   "source": [
    "# Câu 3: Xử lý Tách chuỗi\n",
    "\n",
    "# Yêu cầu:\n",
    "# Cho 1 Chuỗi như sau “5;7;8;-2;8;11;13;9;10” (có thể nhập bất kỳ từ bàn phím)\n",
    "# -\txuất các chữ số trên các dòng riêng biệt\n",
    "# -\tXuất có bao nhiêu chữ số chẵn\n",
    "# -\tXuất có bao nhiêu số âm\n",
    "# -\tXuất có bao nhiêu chữ số nguyên tố\n",
    "# -\tTính giá trị trung bình\n",
    "\n",
    "# Hàm kiểm tra số nguyên tố\n",
    "def CheckPrime(x):\n",
    "    dem = 0  # Khởi tạo biến đếm số ước số\n",
    "    # Duyệt qua tất cả các số từ 1 đến x\n",
    "    for i in range(1, x + 1):\n",
    "        if x % i == 0:  # Nếu x chia hết cho i thì i là ước số của x\n",
    "            dem += 1  # Tăng số ước số lên 1\n",
    "    return dem == 2  # Số nguyên tố chỉ có 2 ước số: 1 và chính nó\n",
    "\n",
    "# Chuỗi s chứa các số được phân tách bằng dấu chấm phẩy\n",
    "s = \"5;7;8;-2;8;11;-13;9;10\"\n",
    "arr = s.split(';')  # Tách chuỗi thành danh sách các số (chuỗi con)\n",
    "\n",
    "# Khởi tạo các biến để đếm số chẵn, số âm, số nguyên tố và tổng các số\n",
    "sochan = 0  # Biến đếm số chẵn\n",
    "soam = 0  # Biến đếm số âm\n",
    "sont = 0  # Biến đếm số nguyên tố\n",
    "sum = 0  # Biến tính tổng các số\n",
    "\n",
    "# Duyệt qua từng phần tử trong danh sách arr\n",
    "for x in arr:\n",
    "    print(x)  # In ra phần tử hiện tại trong danh sách\n",
    "    number = int(x)  # Chuyển phần tử thành số nguyên\n",
    "    \n",
    "    # Kiểm tra xem số hiện tại có phải là số chẵn không\n",
    "    if number % 2 == 0:\n",
    "        sochan += 1  # Nếu số chẵn, tăng biến sochan lên 1\n",
    "    \n",
    "    # Kiểm tra xem số hiện tại có phải là số âm không\n",
    "    if number < 0:\n",
    "        soam += 1  # Nếu số âm, tăng biến soam lên 1\n",
    "    \n",
    "    # Kiểm tra xem số hiện tại có phải là số nguyên tố không\n",
    "    if CheckPrime(number):\n",
    "        sont += 1  # Nếu là số nguyên tố, tăng biến sont lên 1\n",
    "    \n",
    "    sum = sum + number  # Cộng số hiện tại vào tổng sum\n",
    "\n",
    "# In ra kết quả: số chẵn, số âm, số nguyên tố và trung bình cộng\n",
    "print(\"Số chẵn =\", sochan)\n",
    "print(\"Số âm =\", soam)\n",
    "print(\"Số Nguyên tố =\", sont)\n",
    "print(\"Trung bình =\", sum / len(arr))  # Tính và in trung bình cộng\n",
    "\n"
   ]
  },
  {
   "cell_type": "code",
   "execution_count": 41,
   "id": "c8f5dd1e-e99a-4d1e-b271-e30a15450551",
   "metadata": {},
   "outputs": [
    {
     "name": "stdout",
     "output_type": "stream",
     "text": [
      "5\n",
      "HELLO\n",
      "hello\n",
      "hello\n",
      "['hello', 'world', 'python']\n",
      "hello world python\n",
      "hello python\n",
      "6\n",
      "-1\n",
      "True\n",
      "False\n",
      "True\n",
      "False\n",
      "True\n",
      "False\n",
      "True\n",
      "False\n",
      "2\n",
      "My name is Alice and I am 25 years old.\n",
      "True\n",
      "False\n"
     ]
    }
   ],
   "source": [
    "# Câu 4: Các hàm quan trọng trong xử lý chuỗi của Python\n",
    "\n",
    "# Yêu cầu:\n",
    "# Trình bày một số hàm quan trọng trong xử lý Chuỗi của Python\n",
    "\n",
    "\n",
    "# 1. len(s)\n",
    "# Mô tả: Trả về độ dài của chuỗi s (số ký tự trong chuỗi).\n",
    "# Ví dụ:\n",
    "\n",
    "s = \"hello\"\n",
    "print(len(s))  # Kết quả: 5\n",
    "\n",
    "# 2. upper()\n",
    "# Mô tả: Chuyển tất cả các ký tự trong chuỗi thành chữ hoa.\n",
    "# Ví dụ:\n",
    "\n",
    "s = \"hello\"\n",
    "print(s.upper())  # Kết quả: \"HELLO\"\n",
    "\n",
    "# 3. lower()\n",
    "# Mô tả: Chuyển tất cả các ký tự trong chuỗi thành chữ thường.\n",
    "# Ví dụ:\n",
    "\n",
    "s = \"HELLO\"\n",
    "print(s.lower())  # Kết quả: \"hello\"\n",
    "\n",
    "# 4. strip()\n",
    "# Mô tả: Loại bỏ tất cả các khoảng trắng ở đầu và cuối chuỗi.\n",
    "# Ví dụ:\n",
    "\n",
    "s = \"  hello  \"\n",
    "print(s.strip())  # Kết quả: \"hello\"\n",
    "\n",
    "# 5. split()\n",
    "# Mô tả: Tách chuỗi thành danh sách các chuỗi con, phân tách theo một ký tự chỉ định (mặc định là khoảng trắng).\n",
    "# Ví dụ:\n",
    "\n",
    "s = \"hello world python\"\n",
    "print(s.split())  # Kết quả: ['hello', 'world', 'python']\n",
    "\n",
    "# 6. join()\n",
    "# Mô tả: Nối các phần tử trong danh sách thành một chuỗi, với một ký tự phân tách chỉ định.\n",
    "# Ví dụ:\n",
    "\n",
    "words = ['hello', 'world', 'python']\n",
    "print(' '.join(words))  # Kết quả: \"hello world python\"\n",
    "\n",
    "# 7. replace()\n",
    "# Mô tả: Thay thế tất cả các chuỗi con cũ bằng chuỗi con mới trong chuỗi gốc.\n",
    "# Ví dụ:\n",
    "\n",
    "s = \"hello world\"\n",
    "print(s.replace(\"world\", \"python\"))  # Kết quả: \"hello python\"\n",
    "\n",
    "# 8. find()\n",
    "# Mô tả: Tìm kiếm chuỗi con trong chuỗi và trả về chỉ số (index) đầu tiên của chuỗi con. Nếu không tìm thấy, trả về -1.\n",
    "# Ví dụ:\n",
    "\n",
    "s = \"hello world\"\n",
    "print(s.find(\"world\"))  # Kết quả: 6\n",
    "print(s.find(\"python\"))  # Kết quả: -1\n",
    "\n",
    "# 9. startswith()\n",
    "# Mô tả: Kiểm tra xem chuỗi có bắt đầu bằng chuỗi con cụ thể hay không.\n",
    "# Ví dụ:\n",
    "\n",
    "s = \"hello world\"\n",
    "print(s.startswith(\"hello\"))  # Kết quả: True\n",
    "print(s.startswith(\"world\"))  # Kết quả: False\n",
    "\n",
    "# 10. endswith()\n",
    "# Mô tả: Kiểm tra xem chuỗi có kết thúc bằng chuỗi con cụ thể hay không.\n",
    "# Ví dụ:\n",
    "\n",
    "s = \"hello world\"\n",
    "print(s.endswith(\"world\"))  # Kết quả: True\n",
    "print(s.endswith(\"hello\"))  # Kết quả: False\n",
    "\n",
    "# 11. isdigit()\n",
    "# Mô tả: Kiểm tra xem tất cả các ký tự trong chuỗi có phải là chữ số hay không.\n",
    "# Ví dụ:\n",
    "\n",
    "s = \"12345\"\n",
    "print(s.isdigit())  # Kết quả: True\n",
    "s = \"123a5\"\n",
    "print(s.isdigit())  # Kết quả: False\n",
    "\n",
    "# 12. isalpha()\n",
    "# Mô tả: Kiểm tra xem tất cả các ký tự trong chuỗi có phải là chữ cái hay không.\n",
    "# Ví dụ:\n",
    "\n",
    "s = \"hello\"\n",
    "print(s.isalpha())  # Kết quả: True\n",
    "s = \"hello123\"\n",
    "print(s.isalpha())  # Kết quả: False\n",
    "\n",
    "# 13. count()\n",
    "# Mô tả: Đếm số lần xuất hiện của chuỗi con trong chuỗi.\n",
    "# Ví dụ:\n",
    "\n",
    "s = \"hello hello world\"\n",
    "print(s.count(\"hello\"))  # Kết quả: 2\n",
    "\n",
    "# 14. format()\n",
    "# Mô tả: Dùng để thay thế các vị trí được chỉ định trong chuỗi bằng các giá trị cụ thể.\n",
    "# Ví dụ:\n",
    "\n",
    "name = \"Alice\"\n",
    "age = 25\n",
    "s = \"My name is {} and I am {} years old.\".format(name, age)\n",
    "print(s)  # Kết quả: \"My name is Alice and I am 25 years old.\"\n",
    "\n",
    "# 15. isalnum()\n",
    "# Mô tả: Kiểm tra xem chuỗi có chứa chỉ các ký tự chữ và số hay không.\n",
    "# Ví dụ:\n",
    "\n",
    "s = \"hello123\"\n",
    "print(s.isalnum())  # Kết quả: True\n",
    "s = \"hello 123\"\n",
    "print(s.isalnum())  # Kết quả: False\n"
   ]
  },
  {
   "cell_type": "code",
   "execution_count": 42,
   "id": "cab755d6-e0da-4766-935b-6725fc8c1b88",
   "metadata": {},
   "outputs": [
    {
     "name": "stdin",
     "output_type": "stream",
     "text": [
      "Nhập một chuỗi:  Dũng\n"
     ]
    },
    {
     "name": "stdout",
     "output_type": "stream",
     "text": [
      "Số chữ IN HOA: 1\n",
      "Số chữ in thường: 3\n",
      "Số chữ số: 0\n",
      "Số ký tự đặc biệt: 0\n",
      "Số khoảng trắng: 0\n",
      "Số nguyên âm: 0\n",
      "Số phụ âm: 4\n"
     ]
    }
   ],
   "source": [
    "# Câu 5: Xử lý chuỗi với các hàm cơ bản\n",
    "# Viết chương trình cho phép nhập vào 1 chuỗi. Yêu cầu xuất ra:\n",
    "# -\tBao nhiêu chữ IN HOA\n",
    "# -\tBao nhiêu chữ in thường\n",
    "# -\tBao nhiêu chữ là chữ số\n",
    "# -\tBao nhiêu chữ là ký tự đặc biệt\n",
    "# -\tBao nhiêu chữ là khoảng trắng\n",
    "# -\tBao nhiêu chữ là Nguyên Âm\n",
    "# -\tBao nhiêu chữ là Phụ âm\n",
    "\n",
    "def main():\n",
    "    # Nhập chuỗi từ người dùng\n",
    "    s = input(\"Nhập một chuỗi: \")\n",
    "\n",
    "    # Khởi tạo các biến đếm\n",
    "    so_chu_hoa = 0  # Đếm số chữ in hoa\n",
    "    so_chu_thuong = 0  # Đếm số chữ in thường\n",
    "    so_chu_so = 0  # Đếm số chữ số\n",
    "    so_ky_tu_dac_biet = 0  # Đếm số ký tự đặc biệt\n",
    "    so_khoang_trang = 0  # Đếm số khoảng trắng\n",
    "    so_nguyen_am = 0  # Đếm số nguyên âm\n",
    "    so_phu_am = 0  # Đếm số phụ âm\n",
    "\n",
    "    # Duyệt qua từng ký tự trong chuỗi\n",
    "    for char in s:\n",
    "        if char.isupper():  # Kiểm tra nếu là chữ hoa\n",
    "            so_chu_hoa += 1\n",
    "        elif char.islower():  # Kiểm tra nếu là chữ thường\n",
    "            so_chu_thuong += 1\n",
    "        elif char.isdigit():  # Kiểm tra nếu là chữ số\n",
    "            so_chu_so += 1\n",
    "        elif char.isspace():  # Kiểm tra nếu là khoảng trắng\n",
    "            so_khoang_trang += 1\n",
    "        elif not char.isalnum():  # Kiểm tra nếu là ký tự đặc biệt\n",
    "            so_ky_tu_dac_biet += 1\n",
    "        \n",
    "        # Kiểm tra nếu là nguyên âm hay phụ âm\n",
    "        if char.lower() in 'aeiou':  # Kiểm tra nguyên âm\n",
    "            so_nguyen_am += 1\n",
    "        elif char.isalpha():  # Kiểm tra phụ âm\n",
    "            so_phu_am += 1\n",
    "\n",
    "    # In kết quả\n",
    "    print(\"Số chữ IN HOA:\", so_chu_hoa)\n",
    "    print(\"Số chữ in thường:\", so_chu_thuong)\n",
    "    print(\"Số chữ số:\", so_chu_so)\n",
    "    print(\"Số ký tự đặc biệt:\", so_ky_tu_dac_biet)\n",
    "    print(\"Số khoảng trắng:\", so_khoang_trang)\n",
    "    print(\"Số nguyên âm:\", so_nguyen_am)\n",
    "    print(\"Số phụ âm:\", so_phu_am)\n",
    "\n",
    "# Gọi hàm main để thực thi chương trình\n",
    "main()\n"
   ]
  },
  {
   "cell_type": "code",
   "execution_count": 43,
   "id": "6771959f-8221-4fb2-b930-59bbc05eebb9",
   "metadata": {},
   "outputs": [
    {
     "name": "stdin",
     "output_type": "stream",
     "text": [
      "Nhập chuỗi danh từ:  con mèo\n"
     ]
    },
    {
     "name": "stdout",
     "output_type": "stream",
     "text": [
      "Chuỗi tối ưu: Con Mèo\n"
     ]
    }
   ],
   "source": [
    "# Câu 7: Tối ưu chuỗi danh từ\n",
    "\n",
    "# Yêu cầu:\n",
    "# Viết chương trình tối ưu Chuỗi danh từ\n",
    "# Một Chuỗi được gọi là tối ưu khi: Không chứa các khoảng trắng dư thừa, các từ cách nhau bởi một khoảng trắng, Ký tự đầu tiên của các từ Viết Hoa\n",
    "# Ví dụ:\n",
    "# Input “     TRần    duY            thAnH   ”\n",
    "# Output “Trần Duy Thanh”\n",
    "\n",
    "def toiUuChuoiDanhTu(s):\n",
    "    # Xóa khoảng trắng thừa ở đầu và cuối chuỗi\n",
    "    s = s.strip()\n",
    "\n",
    "    # Tách chuỗi thành danh sách các từ (dựa trên khoảng trắng)\n",
    "    arr = s.split()\n",
    "\n",
    "    # Duyệt qua từng từ, viết hoa chữ cái đầu tiên và viết thường các ký tự còn lại\n",
    "    for i in range(len(arr)):\n",
    "        arr[i] = arr[i].capitalize()\n",
    "\n",
    "    # Nối các từ lại với nhau bằng một khoảng trắng giữa các từ\n",
    "    s_optimized = ' '.join(arr)\n",
    "\n",
    "    return s_optimized\n",
    "\n",
    "# Nhập chuỗi từ người dùng\n",
    "s = input(\"Nhập chuỗi danh từ: \")\n",
    "\n",
    "# Gọi hàm để tối ưu chuỗi và in kết quả\n",
    "result = toiUuChuoiDanhTu(s)\n",
    "print(\"Chuỗi tối ưu:\", result)\n"
   ]
  },
  {
   "cell_type": "code",
   "execution_count": 44,
   "id": "b0e240c9-9e5c-4f8f-96db-91bc445d6109",
   "metadata": {},
   "outputs": [
    {
     "name": "stdout",
     "output_type": "stream",
     "text": [
      "Tên bài hát đầy đủ: muabui.mp3\n",
      "Tên bài hát không có đuôi mở rộng: muabui\n"
     ]
    }
   ],
   "source": [
    "# Câu 8: Tách lấy tên bài hát\n",
    "\n",
    "# Yêu cầu:\n",
    "# Cho một chuỗi là đường dẫn của 1 file nhạc, ví dụ: d:\\\\music\\muabui.mp3\n",
    "# Hãy viết 2 hàm để:\n",
    "# -\tLấy ra muabui.mp3\n",
    "# -\tLấy ra muabui\n",
    "# Lưu ý đường dẫn bài hát là bất kỳ. Nên khi truyền vào bài hát nào thì lấy chính xác theo bài hát đó.\n",
    "\n",
    "def name(path):\n",
    "    # Tách chuỗi đường dẫn và lấy phần cuối cùng sau dấu '\\\\' (hoặc '/')\n",
    "    return path.split(\"\\\\\")[-1]\n",
    "\n",
    "def extension(path):\n",
    "    # Lấy tên tệp từ đường dẫn và tách phần mở rộng ra\n",
    "    return path.split(\"\\\\\")[-1].split(\".\")[0]\n",
    "\n",
    "# Đường dẫn bài hát đã cho\n",
    "path = \"d:\\\\music\\\\muabui.mp3\"\n",
    "\n",
    "# Gọi và in kết quả cho cả hai hàm\n",
    "print(\"Tên bài hát đầy đủ:\", name(path))\n",
    "print(\"Tên bài hát không có đuôi mở rộng:\", extension(path))\n"
   ]
  },
  {
   "cell_type": "code",
   "execution_count": null,
   "id": "b19da877-b255-48f1-8001-007be96a7336",
   "metadata": {},
   "outputs": [],
   "source": []
  }
 ],
 "metadata": {
  "kernelspec": {
   "display_name": "Python [conda env:anaconda3] *",
   "language": "python",
   "name": "conda-env-anaconda3-py"
  },
  "language_info": {
   "codemirror_mode": {
    "name": "ipython",
    "version": 3
   },
   "file_extension": ".py",
   "mimetype": "text/x-python",
   "name": "python",
   "nbconvert_exporter": "python",
   "pygments_lexer": "ipython3",
   "version": "3.13.5"
  }
 },
 "nbformat": 4,
 "nbformat_minor": 5
}
